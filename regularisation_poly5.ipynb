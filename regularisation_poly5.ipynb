{
 "cells": [
  {
   "cell_type": "code",
   "execution_count": 1,
   "metadata": {},
   "outputs": [],
   "source": [
    "import numpy as np\n",
    "import pandas as pd\n",
    "\n",
    "from sklearn.model_selection import train_test_split,KFold,cross_validate\n",
    "from sklearn.preprocessing import PolynomialFeatures,StandardScaler\n",
    "\n",
    "from sklearn.linear_model import LinearRegression,Ridge,Lasso,ElasticNet,LassoLarsIC\n",
    "from sklearn.datasets import california_housing"
   ]
  },
  {
   "cell_type": "code",
   "execution_count": 2,
   "metadata": {},
   "outputs": [],
   "source": [
    "data = california_housing.fetch_california_housing()"
   ]
  },
  {
   "cell_type": "code",
   "execution_count": 3,
   "metadata": {},
   "outputs": [],
   "source": [
    "X = pd.DataFrame(data['data'],columns=data['feature_names'])\n",
    "y = pd.DataFrame(data['target'])"
   ]
  },
  {
   "cell_type": "code",
   "execution_count": 4,
   "metadata": {},
   "outputs": [
    {
     "data": {
      "text/html": [
       "<div>\n",
       "<style scoped>\n",
       "    .dataframe tbody tr th:only-of-type {\n",
       "        vertical-align: middle;\n",
       "    }\n",
       "\n",
       "    .dataframe tbody tr th {\n",
       "        vertical-align: top;\n",
       "    }\n",
       "\n",
       "    .dataframe thead th {\n",
       "        text-align: right;\n",
       "    }\n",
       "</style>\n",
       "<table border=\"1\" class=\"dataframe\">\n",
       "  <thead>\n",
       "    <tr style=\"text-align: right;\">\n",
       "      <th></th>\n",
       "      <th>MedInc</th>\n",
       "      <th>HouseAge</th>\n",
       "      <th>AveRooms</th>\n",
       "      <th>AveBedrms</th>\n",
       "      <th>Population</th>\n",
       "      <th>AveOccup</th>\n",
       "      <th>Latitude</th>\n",
       "      <th>Longitude</th>\n",
       "    </tr>\n",
       "  </thead>\n",
       "  <tbody>\n",
       "    <tr>\n",
       "      <td>0</td>\n",
       "      <td>8.3252</td>\n",
       "      <td>41.0</td>\n",
       "      <td>6.984127</td>\n",
       "      <td>1.023810</td>\n",
       "      <td>322.0</td>\n",
       "      <td>2.555556</td>\n",
       "      <td>37.88</td>\n",
       "      <td>-122.23</td>\n",
       "    </tr>\n",
       "    <tr>\n",
       "      <td>1</td>\n",
       "      <td>8.3014</td>\n",
       "      <td>21.0</td>\n",
       "      <td>6.238137</td>\n",
       "      <td>0.971880</td>\n",
       "      <td>2401.0</td>\n",
       "      <td>2.109842</td>\n",
       "      <td>37.86</td>\n",
       "      <td>-122.22</td>\n",
       "    </tr>\n",
       "    <tr>\n",
       "      <td>2</td>\n",
       "      <td>7.2574</td>\n",
       "      <td>52.0</td>\n",
       "      <td>8.288136</td>\n",
       "      <td>1.073446</td>\n",
       "      <td>496.0</td>\n",
       "      <td>2.802260</td>\n",
       "      <td>37.85</td>\n",
       "      <td>-122.24</td>\n",
       "    </tr>\n",
       "    <tr>\n",
       "      <td>3</td>\n",
       "      <td>5.6431</td>\n",
       "      <td>52.0</td>\n",
       "      <td>5.817352</td>\n",
       "      <td>1.073059</td>\n",
       "      <td>558.0</td>\n",
       "      <td>2.547945</td>\n",
       "      <td>37.85</td>\n",
       "      <td>-122.25</td>\n",
       "    </tr>\n",
       "    <tr>\n",
       "      <td>4</td>\n",
       "      <td>3.8462</td>\n",
       "      <td>52.0</td>\n",
       "      <td>6.281853</td>\n",
       "      <td>1.081081</td>\n",
       "      <td>565.0</td>\n",
       "      <td>2.181467</td>\n",
       "      <td>37.85</td>\n",
       "      <td>-122.25</td>\n",
       "    </tr>\n",
       "  </tbody>\n",
       "</table>\n",
       "</div>"
      ],
      "text/plain": [
       "   MedInc  HouseAge  AveRooms  AveBedrms  Population  AveOccup  Latitude  \\\n",
       "0  8.3252      41.0  6.984127   1.023810       322.0  2.555556     37.88   \n",
       "1  8.3014      21.0  6.238137   0.971880      2401.0  2.109842     37.86   \n",
       "2  7.2574      52.0  8.288136   1.073446       496.0  2.802260     37.85   \n",
       "3  5.6431      52.0  5.817352   1.073059       558.0  2.547945     37.85   \n",
       "4  3.8462      52.0  6.281853   1.081081       565.0  2.181467     37.85   \n",
       "\n",
       "   Longitude  \n",
       "0    -122.23  \n",
       "1    -122.22  \n",
       "2    -122.24  \n",
       "3    -122.25  \n",
       "4    -122.25  "
      ]
     },
     "execution_count": 4,
     "metadata": {},
     "output_type": "execute_result"
    }
   ],
   "source": [
    "X.head()"
   ]
  },
  {
   "cell_type": "markdown",
   "metadata": {},
   "source": [
    "# Feature Engineering"
   ]
  },
  {
   "cell_type": "code",
   "execution_count": 5,
   "metadata": {},
   "outputs": [
    {
     "data": {
      "text/html": [
       "<div>\n",
       "<style scoped>\n",
       "    .dataframe tbody tr th:only-of-type {\n",
       "        vertical-align: middle;\n",
       "    }\n",
       "\n",
       "    .dataframe tbody tr th {\n",
       "        vertical-align: top;\n",
       "    }\n",
       "\n",
       "    .dataframe thead th {\n",
       "        text-align: right;\n",
       "    }\n",
       "</style>\n",
       "<table border=\"1\" class=\"dataframe\">\n",
       "  <thead>\n",
       "    <tr style=\"text-align: right;\">\n",
       "      <th></th>\n",
       "      <th>1</th>\n",
       "      <th>MedInc</th>\n",
       "      <th>HouseAge</th>\n",
       "      <th>AveRooms</th>\n",
       "      <th>AveBedrms</th>\n",
       "      <th>Population</th>\n",
       "      <th>AveOccup</th>\n",
       "      <th>Latitude</th>\n",
       "      <th>Longitude</th>\n",
       "      <th>MedInc^2</th>\n",
       "      <th>...</th>\n",
       "      <th>AveOccup Latitude^3 Longitude</th>\n",
       "      <th>AveOccup Latitude^2 Longitude^2</th>\n",
       "      <th>AveOccup Latitude Longitude^3</th>\n",
       "      <th>AveOccup Longitude^4</th>\n",
       "      <th>Latitude^5</th>\n",
       "      <th>Latitude^4 Longitude</th>\n",
       "      <th>Latitude^3 Longitude^2</th>\n",
       "      <th>Latitude^2 Longitude^3</th>\n",
       "      <th>Latitude Longitude^4</th>\n",
       "      <th>Longitude^5</th>\n",
       "    </tr>\n",
       "  </thead>\n",
       "  <tbody>\n",
       "    <tr>\n",
       "      <td>0</td>\n",
       "      <td>1.0</td>\n",
       "      <td>8.3252</td>\n",
       "      <td>41.0</td>\n",
       "      <td>6.984127</td>\n",
       "      <td>1.023810</td>\n",
       "      <td>322.0</td>\n",
       "      <td>2.555556</td>\n",
       "      <td>37.88</td>\n",
       "      <td>-122.23</td>\n",
       "      <td>69.308955</td>\n",
       "      <td>...</td>\n",
       "      <td>-1.697825e+07</td>\n",
       "      <td>5.478490e+07</td>\n",
       "      <td>-1.767782e+08</td>\n",
       "      <td>5.704224e+08</td>\n",
       "      <td>7.799196e+07</td>\n",
       "      <td>-2.516620e+08</td>\n",
       "      <td>8.120552e+08</td>\n",
       "      <td>-2.620314e+09</td>\n",
       "      <td>8.455148e+09</td>\n",
       "      <td>-2.728281e+10</td>\n",
       "    </tr>\n",
       "    <tr>\n",
       "      <td>1</td>\n",
       "      <td>1.0</td>\n",
       "      <td>8.3014</td>\n",
       "      <td>21.0</td>\n",
       "      <td>6.238137</td>\n",
       "      <td>0.971880</td>\n",
       "      <td>2401.0</td>\n",
       "      <td>2.109842</td>\n",
       "      <td>37.86</td>\n",
       "      <td>-122.22</td>\n",
       "      <td>68.913242</td>\n",
       "      <td>...</td>\n",
       "      <td>-1.399375e+07</td>\n",
       "      <td>4.517474e+07</td>\n",
       "      <td>-1.458335e+08</td>\n",
       "      <td>4.707811e+08</td>\n",
       "      <td>7.778629e+07</td>\n",
       "      <td>-2.511104e+08</td>\n",
       "      <td>8.106369e+08</td>\n",
       "      <td>-2.616906e+09</td>\n",
       "      <td>8.447919e+09</td>\n",
       "      <td>-2.727165e+10</td>\n",
       "    </tr>\n",
       "    <tr>\n",
       "      <td>2</td>\n",
       "      <td>1.0</td>\n",
       "      <td>7.2574</td>\n",
       "      <td>52.0</td>\n",
       "      <td>8.288136</td>\n",
       "      <td>1.073446</td>\n",
       "      <td>496.0</td>\n",
       "      <td>2.802260</td>\n",
       "      <td>37.85</td>\n",
       "      <td>-122.24</td>\n",
       "      <td>52.669855</td>\n",
       "      <td>...</td>\n",
       "      <td>-1.857460e+07</td>\n",
       "      <td>5.998834e+07</td>\n",
       "      <td>-1.937378e+08</td>\n",
       "      <td>6.256937e+08</td>\n",
       "      <td>7.768361e+07</td>\n",
       "      <td>-2.508863e+08</td>\n",
       "      <td>8.102599e+08</td>\n",
       "      <td>-2.616808e+09</td>\n",
       "      <td>8.451217e+09</td>\n",
       "      <td>-2.729397e+10</td>\n",
       "    </tr>\n",
       "    <tr>\n",
       "      <td>3</td>\n",
       "      <td>1.0</td>\n",
       "      <td>5.6431</td>\n",
       "      <td>52.0</td>\n",
       "      <td>5.817352</td>\n",
       "      <td>1.073059</td>\n",
       "      <td>558.0</td>\n",
       "      <td>2.547945</td>\n",
       "      <td>37.85</td>\n",
       "      <td>-122.25</td>\n",
       "      <td>31.844578</td>\n",
       "      <td>...</td>\n",
       "      <td>-1.689027e+07</td>\n",
       "      <td>5.455312e+07</td>\n",
       "      <td>-1.761986e+08</td>\n",
       "      <td>5.690960e+08</td>\n",
       "      <td>7.768361e+07</td>\n",
       "      <td>-2.509068e+08</td>\n",
       "      <td>8.103925e+08</td>\n",
       "      <td>-2.617450e+09</td>\n",
       "      <td>8.453983e+09</td>\n",
       "      <td>-2.730514e+10</td>\n",
       "    </tr>\n",
       "    <tr>\n",
       "      <td>4</td>\n",
       "      <td>1.0</td>\n",
       "      <td>3.8462</td>\n",
       "      <td>52.0</td>\n",
       "      <td>6.281853</td>\n",
       "      <td>1.081081</td>\n",
       "      <td>565.0</td>\n",
       "      <td>2.181467</td>\n",
       "      <td>37.85</td>\n",
       "      <td>-122.25</td>\n",
       "      <td>14.793254</td>\n",
       "      <td>...</td>\n",
       "      <td>-1.446090e+07</td>\n",
       "      <td>4.670659e+07</td>\n",
       "      <td>-1.508555e+08</td>\n",
       "      <td>4.872414e+08</td>\n",
       "      <td>7.768361e+07</td>\n",
       "      <td>-2.509068e+08</td>\n",
       "      <td>8.103925e+08</td>\n",
       "      <td>-2.617450e+09</td>\n",
       "      <td>8.453983e+09</td>\n",
       "      <td>-2.730514e+10</td>\n",
       "    </tr>\n",
       "  </tbody>\n",
       "</table>\n",
       "<p>5 rows × 1287 columns</p>\n",
       "</div>"
      ],
      "text/plain": [
       "     1  MedInc  HouseAge  AveRooms  AveBedrms  Population  AveOccup  Latitude  \\\n",
       "0  1.0  8.3252      41.0  6.984127   1.023810       322.0  2.555556     37.88   \n",
       "1  1.0  8.3014      21.0  6.238137   0.971880      2401.0  2.109842     37.86   \n",
       "2  1.0  7.2574      52.0  8.288136   1.073446       496.0  2.802260     37.85   \n",
       "3  1.0  5.6431      52.0  5.817352   1.073059       558.0  2.547945     37.85   \n",
       "4  1.0  3.8462      52.0  6.281853   1.081081       565.0  2.181467     37.85   \n",
       "\n",
       "   Longitude   MedInc^2  ...  AveOccup Latitude^3 Longitude  \\\n",
       "0    -122.23  69.308955  ...                  -1.697825e+07   \n",
       "1    -122.22  68.913242  ...                  -1.399375e+07   \n",
       "2    -122.24  52.669855  ...                  -1.857460e+07   \n",
       "3    -122.25  31.844578  ...                  -1.689027e+07   \n",
       "4    -122.25  14.793254  ...                  -1.446090e+07   \n",
       "\n",
       "   AveOccup Latitude^2 Longitude^2  AveOccup Latitude Longitude^3  \\\n",
       "0                     5.478490e+07                  -1.767782e+08   \n",
       "1                     4.517474e+07                  -1.458335e+08   \n",
       "2                     5.998834e+07                  -1.937378e+08   \n",
       "3                     5.455312e+07                  -1.761986e+08   \n",
       "4                     4.670659e+07                  -1.508555e+08   \n",
       "\n",
       "   AveOccup Longitude^4    Latitude^5  Latitude^4 Longitude  \\\n",
       "0          5.704224e+08  7.799196e+07         -2.516620e+08   \n",
       "1          4.707811e+08  7.778629e+07         -2.511104e+08   \n",
       "2          6.256937e+08  7.768361e+07         -2.508863e+08   \n",
       "3          5.690960e+08  7.768361e+07         -2.509068e+08   \n",
       "4          4.872414e+08  7.768361e+07         -2.509068e+08   \n",
       "\n",
       "   Latitude^3 Longitude^2  Latitude^2 Longitude^3  Latitude Longitude^4  \\\n",
       "0            8.120552e+08           -2.620314e+09          8.455148e+09   \n",
       "1            8.106369e+08           -2.616906e+09          8.447919e+09   \n",
       "2            8.102599e+08           -2.616808e+09          8.451217e+09   \n",
       "3            8.103925e+08           -2.617450e+09          8.453983e+09   \n",
       "4            8.103925e+08           -2.617450e+09          8.453983e+09   \n",
       "\n",
       "    Longitude^5  \n",
       "0 -2.728281e+10  \n",
       "1 -2.727165e+10  \n",
       "2 -2.729397e+10  \n",
       "3 -2.730514e+10  \n",
       "4 -2.730514e+10  \n",
       "\n",
       "[5 rows x 1287 columns]"
      ]
     },
     "execution_count": 5,
     "metadata": {},
     "output_type": "execute_result"
    }
   ],
   "source": [
    "poly = PolynomialFeatures(5)\n",
    "X_poly = poly.fit_transform(X)\n",
    "X_poly = pd.DataFrame(X_poly,columns = poly.get_feature_names(X.columns))\n",
    "X_poly.head()"
   ]
  },
  {
   "cell_type": "markdown",
   "metadata": {},
   "source": [
    "# Train / Validation / Test split"
   ]
  },
  {
   "cell_type": "code",
   "execution_count": 6,
   "metadata": {},
   "outputs": [],
   "source": [
    "X_train, X_test, y_train, y_test = train_test_split(X_poly,y,test_size=1000, random_state=42)\n",
    "X_train_v, X_val, y_train_v, y_val = train_test_split(X_train,y_train,test_size=1000, random_state=123)"
   ]
  },
  {
   "cell_type": "code",
   "execution_count": 7,
   "metadata": {},
   "outputs": [],
   "source": [
    "scaler = StandardScaler()"
   ]
  },
  {
   "cell_type": "code",
   "execution_count": 8,
   "metadata": {},
   "outputs": [],
   "source": [
    "scaler.fit(X_train_v)\n",
    "\n",
    "X_train_v = scaler.transform(X_train_v)\n",
    "X_val = scaler.transform(X_val)\n",
    "\n",
    "X_train = scaler.transform(X_train)\n",
    "X_test = scaler.transform(X_test)"
   ]
  },
  {
   "cell_type": "code",
   "execution_count": 9,
   "metadata": {},
   "outputs": [
    {
     "data": {
      "text/html": [
       "<div>\n",
       "<style scoped>\n",
       "    .dataframe tbody tr th:only-of-type {\n",
       "        vertical-align: middle;\n",
       "    }\n",
       "\n",
       "    .dataframe tbody tr th {\n",
       "        vertical-align: top;\n",
       "    }\n",
       "\n",
       "    .dataframe thead th {\n",
       "        text-align: right;\n",
       "    }\n",
       "</style>\n",
       "<table border=\"1\" class=\"dataframe\">\n",
       "  <thead>\n",
       "    <tr style=\"text-align: right;\">\n",
       "      <th></th>\n",
       "      <th>1</th>\n",
       "      <th>MedInc</th>\n",
       "      <th>HouseAge</th>\n",
       "      <th>AveRooms</th>\n",
       "      <th>AveBedrms</th>\n",
       "      <th>Population</th>\n",
       "      <th>AveOccup</th>\n",
       "      <th>Latitude</th>\n",
       "      <th>Longitude</th>\n",
       "      <th>MedInc^2</th>\n",
       "      <th>...</th>\n",
       "      <th>AveOccup Latitude^3 Longitude</th>\n",
       "      <th>AveOccup Latitude^2 Longitude^2</th>\n",
       "      <th>AveOccup Latitude Longitude^3</th>\n",
       "      <th>AveOccup Longitude^4</th>\n",
       "      <th>Latitude^5</th>\n",
       "      <th>Latitude^4 Longitude</th>\n",
       "      <th>Latitude^3 Longitude^2</th>\n",
       "      <th>Latitude^2 Longitude^3</th>\n",
       "      <th>Latitude Longitude^4</th>\n",
       "      <th>Longitude^5</th>\n",
       "    </tr>\n",
       "  </thead>\n",
       "  <tbody>\n",
       "    <tr>\n",
       "      <td>0</td>\n",
       "      <td>0.0</td>\n",
       "      <td>-0.031841</td>\n",
       "      <td>-0.606435</td>\n",
       "      <td>0.178642</td>\n",
       "      <td>0.160661</td>\n",
       "      <td>-0.595176</td>\n",
       "      <td>0.041127</td>\n",
       "      <td>-0.545903</td>\n",
       "      <td>-0.237692</td>\n",
       "      <td>-0.186257</td>\n",
       "      <td>...</td>\n",
       "      <td>-0.005482</td>\n",
       "      <td>0.016820</td>\n",
       "      <td>-0.029316</td>\n",
       "      <td>0.043002</td>\n",
       "      <td>-0.590697</td>\n",
       "      <td>0.545365</td>\n",
       "      <td>-0.477044</td>\n",
       "      <td>0.368404</td>\n",
       "      <td>-0.179051</td>\n",
       "      <td>-0.203650</td>\n",
       "    </tr>\n",
       "    <tr>\n",
       "      <td>1</td>\n",
       "      <td>0.0</td>\n",
       "      <td>0.710348</td>\n",
       "      <td>-1.955232</td>\n",
       "      <td>2.009597</td>\n",
       "      <td>0.717012</td>\n",
       "      <td>-0.975745</td>\n",
       "      <td>0.026930</td>\n",
       "      <td>-0.995294</td>\n",
       "      <td>1.124305</td>\n",
       "      <td>0.398111</td>\n",
       "      <td>...</td>\n",
       "      <td>0.027197</td>\n",
       "      <td>-0.018086</td>\n",
       "      <td>0.007829</td>\n",
       "      <td>0.003626</td>\n",
       "      <td>-0.936847</td>\n",
       "      <td>0.960049</td>\n",
       "      <td>-0.986692</td>\n",
       "      <td>1.018847</td>\n",
       "      <td>-1.059197</td>\n",
       "      <td>1.104234</td>\n",
       "    </tr>\n",
       "    <tr>\n",
       "      <td>2</td>\n",
       "      <td>0.0</td>\n",
       "      <td>-0.442032</td>\n",
       "      <td>1.297749</td>\n",
       "      <td>-0.468423</td>\n",
       "      <td>-0.443074</td>\n",
       "      <td>-0.389582</td>\n",
       "      <td>-0.041752</td>\n",
       "      <td>1.083141</td>\n",
       "      <td>-1.375184</td>\n",
       "      <td>-0.431269</td>\n",
       "      <td>...</td>\n",
       "      <td>-0.008149</td>\n",
       "      <td>0.000576</td>\n",
       "      <td>0.008104</td>\n",
       "      <td>-0.017937</td>\n",
       "      <td>1.032272</td>\n",
       "      <td>-1.075963</td>\n",
       "      <td>1.126667</td>\n",
       "      <td>-1.189470</td>\n",
       "      <td>1.273577</td>\n",
       "      <td>-1.391023</td>\n",
       "    </tr>\n",
       "    <tr>\n",
       "      <td>3</td>\n",
       "      <td>0.0</td>\n",
       "      <td>0.035014</td>\n",
       "      <td>-1.717209</td>\n",
       "      <td>-0.036640</td>\n",
       "      <td>-0.136730</td>\n",
       "      <td>1.251674</td>\n",
       "      <td>0.005834</td>\n",
       "      <td>1.438909</td>\n",
       "      <td>-0.901229</td>\n",
       "      <td>-0.141064</td>\n",
       "      <td>...</td>\n",
       "      <td>-0.069161</td>\n",
       "      <td>0.054684</td>\n",
       "      <td>-0.038891</td>\n",
       "      <td>0.021787</td>\n",
       "      <td>1.475339</td>\n",
       "      <td>-1.437963</td>\n",
       "      <td>1.385220</td>\n",
       "      <td>-1.305472</td>\n",
       "      <td>1.169460</td>\n",
       "      <td>-0.885410</td>\n",
       "    </tr>\n",
       "    <tr>\n",
       "      <td>4</td>\n",
       "      <td>0.0</td>\n",
       "      <td>-0.714486</td>\n",
       "      <td>-0.447753</td>\n",
       "      <td>-0.130547</td>\n",
       "      <td>-0.150741</td>\n",
       "      <td>-0.386957</td>\n",
       "      <td>-0.041662</td>\n",
       "      <td>1.101866</td>\n",
       "      <td>-0.362417</td>\n",
       "      <td>-0.563336</td>\n",
       "      <td>...</td>\n",
       "      <td>-0.005086</td>\n",
       "      <td>-0.006701</td>\n",
       "      <td>0.019669</td>\n",
       "      <td>-0.033834</td>\n",
       "      <td>1.054723</td>\n",
       "      <td>-1.015211</td>\n",
       "      <td>0.954652</td>\n",
       "      <td>-0.857364</td>\n",
       "      <td>0.685706</td>\n",
       "      <td>-0.329515</td>\n",
       "    </tr>\n",
       "  </tbody>\n",
       "</table>\n",
       "<p>5 rows × 1287 columns</p>\n",
       "</div>"
      ],
      "text/plain": [
       "     1    MedInc  HouseAge  AveRooms  AveBedrms  Population  AveOccup  \\\n",
       "0  0.0 -0.031841 -0.606435  0.178642   0.160661   -0.595176  0.041127   \n",
       "1  0.0  0.710348 -1.955232  2.009597   0.717012   -0.975745  0.026930   \n",
       "2  0.0 -0.442032  1.297749 -0.468423  -0.443074   -0.389582 -0.041752   \n",
       "3  0.0  0.035014 -1.717209 -0.036640  -0.136730    1.251674  0.005834   \n",
       "4  0.0 -0.714486 -0.447753 -0.130547  -0.150741   -0.386957 -0.041662   \n",
       "\n",
       "   Latitude  Longitude  MedInc^2  ...  AveOccup Latitude^3 Longitude  \\\n",
       "0 -0.545903  -0.237692 -0.186257  ...                      -0.005482   \n",
       "1 -0.995294   1.124305  0.398111  ...                       0.027197   \n",
       "2  1.083141  -1.375184 -0.431269  ...                      -0.008149   \n",
       "3  1.438909  -0.901229 -0.141064  ...                      -0.069161   \n",
       "4  1.101866  -0.362417 -0.563336  ...                      -0.005086   \n",
       "\n",
       "   AveOccup Latitude^2 Longitude^2  AveOccup Latitude Longitude^3  \\\n",
       "0                         0.016820                      -0.029316   \n",
       "1                        -0.018086                       0.007829   \n",
       "2                         0.000576                       0.008104   \n",
       "3                         0.054684                      -0.038891   \n",
       "4                        -0.006701                       0.019669   \n",
       "\n",
       "   AveOccup Longitude^4  Latitude^5  Latitude^4 Longitude  \\\n",
       "0              0.043002   -0.590697              0.545365   \n",
       "1              0.003626   -0.936847              0.960049   \n",
       "2             -0.017937    1.032272             -1.075963   \n",
       "3              0.021787    1.475339             -1.437963   \n",
       "4             -0.033834    1.054723             -1.015211   \n",
       "\n",
       "   Latitude^3 Longitude^2  Latitude^2 Longitude^3  Latitude Longitude^4  \\\n",
       "0               -0.477044                0.368404             -0.179051   \n",
       "1               -0.986692                1.018847             -1.059197   \n",
       "2                1.126667               -1.189470              1.273577   \n",
       "3                1.385220               -1.305472              1.169460   \n",
       "4                0.954652               -0.857364              0.685706   \n",
       "\n",
       "   Longitude^5  \n",
       "0    -0.203650  \n",
       "1     1.104234  \n",
       "2    -1.391023  \n",
       "3    -0.885410  \n",
       "4    -0.329515  \n",
       "\n",
       "[5 rows x 1287 columns]"
      ]
     },
     "execution_count": 9,
     "metadata": {},
     "output_type": "execute_result"
    }
   ],
   "source": [
    "X_train_v = pd.DataFrame(X_train_v,columns = poly.get_feature_names(X.columns))\n",
    "X_train_v.head()"
   ]
  },
  {
   "cell_type": "markdown",
   "metadata": {},
   "source": [
    "# Fit and evaluate model"
   ]
  },
  {
   "cell_type": "code",
   "execution_count": 10,
   "metadata": {},
   "outputs": [
    {
     "data": {
      "text/plain": [
       "0.8233232564899363"
      ]
     },
     "execution_count": 10,
     "metadata": {},
     "output_type": "execute_result"
    }
   ],
   "source": [
    "lin_reg = LinearRegression()\n",
    "lin_reg.fit(X_train_v,y_train_v)\n",
    "lin_reg.score(X_train_v,y_train_v)"
   ]
  },
  {
   "cell_type": "code",
   "execution_count": 11,
   "metadata": {},
   "outputs": [
    {
     "data": {
      "text/plain": [
       "-53.45944834320309"
      ]
     },
     "execution_count": 11,
     "metadata": {},
     "output_type": "execute_result"
    }
   ],
   "source": [
    "lin_reg.score(X_val,y_val)"
   ]
  },
  {
   "cell_type": "code",
   "execution_count": 12,
   "metadata": {},
   "outputs": [
    {
     "data": {
      "text/plain": [
       "array([   66905.66524961,  -842004.72360017,  1799035.51366957,\n",
       "       -2250306.08356813])"
      ]
     },
     "execution_count": 12,
     "metadata": {},
     "output_type": "execute_result"
    }
   ],
   "source": [
    "lin_reg.coef_[0][:4]"
   ]
  },
  {
   "cell_type": "markdown",
   "metadata": {},
   "source": [
    "## Ridge"
   ]
  },
  {
   "cell_type": "code",
   "execution_count": 13,
   "metadata": {},
   "outputs": [
    {
     "data": {
      "text/plain": [
       "0.7571279702495323"
      ]
     },
     "execution_count": 13,
     "metadata": {},
     "output_type": "execute_result"
    }
   ],
   "source": [
    "ridge = Ridge(.01)\n",
    "ridge.fit(X_train_v,y_train_v)\n",
    "ridge.score(X_train_v,y_train_v)"
   ]
  },
  {
   "cell_type": "code",
   "execution_count": 14,
   "metadata": {},
   "outputs": [
    {
     "data": {
      "text/plain": [
       "0.6843848679561307"
      ]
     },
     "execution_count": 14,
     "metadata": {},
     "output_type": "execute_result"
    }
   ],
   "source": [
    "ridge.score(X_val,y_val)"
   ]
  },
  {
   "cell_type": "code",
   "execution_count": 15,
   "metadata": {},
   "outputs": [
    {
     "data": {
      "text/plain": [
       "array([ 0.        , -0.93219811, -1.423182  ,  5.75769697])"
      ]
     },
     "execution_count": 15,
     "metadata": {},
     "output_type": "execute_result"
    }
   ],
   "source": [
    "ridge.coef_[0][:4]"
   ]
  },
  {
   "cell_type": "markdown",
   "metadata": {},
   "source": [
    "## Lasso"
   ]
  },
  {
   "cell_type": "code",
   "execution_count": 16,
   "metadata": {},
   "outputs": [
    {
     "name": "stderr",
     "output_type": "stream",
     "text": [
      "//anaconda3/envs/learn-env/lib/python3.6/site-packages/sklearn/linear_model/coordinate_descent.py:475: ConvergenceWarning: Objective did not converge. You might want to increase the number of iterations. Duality gap: 3.961739672400654, tolerance: 2.4834369035185597\n",
      "  positive)\n"
     ]
    },
    {
     "data": {
      "text/plain": [
       "0.6417759491067909"
      ]
     },
     "execution_count": 16,
     "metadata": {},
     "output_type": "execute_result"
    }
   ],
   "source": [
    "lasso = Lasso(.01)\n",
    "lasso.fit(X_train_v,y_train_v)\n",
    "lasso.score(X_train_v,y_train_v)"
   ]
  },
  {
   "cell_type": "code",
   "execution_count": 17,
   "metadata": {},
   "outputs": [
    {
     "data": {
      "text/plain": [
       "0.635870879051025"
      ]
     },
     "execution_count": 17,
     "metadata": {},
     "output_type": "execute_result"
    }
   ],
   "source": [
    "lasso.score(X_val,y_val)"
   ]
  },
  {
   "cell_type": "code",
   "execution_count": 18,
   "metadata": {},
   "outputs": [
    {
     "data": {
      "text/plain": [
       "array([ 0.        ,  0.04625235, -0.        , -0.        ])"
      ]
     },
     "execution_count": 18,
     "metadata": {},
     "output_type": "execute_result"
    }
   ],
   "source": [
    "lasso.coef_[:4]"
   ]
  },
  {
   "cell_type": "markdown",
   "metadata": {},
   "source": [
    "## Elastic net"
   ]
  },
  {
   "cell_type": "code",
   "execution_count": 19,
   "metadata": {},
   "outputs": [
    {
     "name": "stderr",
     "output_type": "stream",
     "text": [
      "//anaconda3/envs/learn-env/lib/python3.6/site-packages/sklearn/linear_model/coordinate_descent.py:475: ConvergenceWarning: Objective did not converge. You might want to increase the number of iterations. Duality gap: 35.643362696212535, tolerance: 2.4834369035185597\n",
      "  positive)\n"
     ]
    },
    {
     "data": {
      "text/plain": [
       "0.6570321035496832"
      ]
     },
     "execution_count": 19,
     "metadata": {},
     "output_type": "execute_result"
    }
   ],
   "source": [
    "elastic = ElasticNet(.01)\n",
    "elastic.fit(X_train_v,y_train_v)\n",
    "elastic.score(X_train_v,y_train_v)"
   ]
  },
  {
   "cell_type": "code",
   "execution_count": 20,
   "metadata": {},
   "outputs": [
    {
     "data": {
      "text/plain": [
       "0.6479229739305834"
      ]
     },
     "execution_count": 20,
     "metadata": {},
     "output_type": "execute_result"
    }
   ],
   "source": [
    "elastic.score(X_val,y_val)"
   ]
  },
  {
   "cell_type": "code",
   "execution_count": 21,
   "metadata": {},
   "outputs": [
    {
     "data": {
      "text/plain": [
       "array([ 0.        ,  0.07733202, -0.        , -0.        ])"
      ]
     },
     "execution_count": 21,
     "metadata": {},
     "output_type": "execute_result"
    }
   ],
   "source": [
    "elastic.coef_[:4]"
   ]
  },
  {
   "cell_type": "markdown",
   "metadata": {},
   "source": [
    "## Lasso with BIC"
   ]
  },
  {
   "cell_type": "code",
   "execution_count": 22,
   "metadata": {},
   "outputs": [
    {
     "name": "stderr",
     "output_type": "stream",
     "text": [
      "//anaconda3/envs/learn-env/lib/python3.6/site-packages/sklearn/utils/validation.py:724: DataConversionWarning: A column-vector y was passed when a 1d array was expected. Please change the shape of y to (n_samples, ), for example using ravel().\n",
      "  y = column_or_1d(y, warn=True)\n"
     ]
    },
    {
     "data": {
      "text/plain": [
       "0.6966487189392462"
      ]
     },
     "execution_count": 22,
     "metadata": {},
     "output_type": "execute_result"
    }
   ],
   "source": [
    "lassobic = LassoLarsIC('bic')\n",
    "lassobic.fit(X_train_v,y_train_v)\n",
    "lassobic.score(X_train_v,y_train_v)"
   ]
  },
  {
   "cell_type": "code",
   "execution_count": 23,
   "metadata": {},
   "outputs": [
    {
     "data": {
      "text/plain": [
       "0.6982960192777602"
      ]
     },
     "execution_count": 23,
     "metadata": {},
     "output_type": "execute_result"
    }
   ],
   "source": [
    "lassobic.score(X_val,y_val)"
   ]
  },
  {
   "cell_type": "code",
   "execution_count": 24,
   "metadata": {},
   "outputs": [
    {
     "data": {
      "text/plain": [
       "array([ 0.        ,  0.        ,  0.        , -0.04466391])"
      ]
     },
     "execution_count": 24,
     "metadata": {},
     "output_type": "execute_result"
    }
   ],
   "source": [
    "lassobic.coef_[:4]"
   ]
  },
  {
   "cell_type": "code",
   "execution_count": 25,
   "metadata": {},
   "outputs": [
    {
     "data": {
      "text/plain": [
       "4.030554607546478e-06"
      ]
     },
     "execution_count": 25,
     "metadata": {},
     "output_type": "execute_result"
    }
   ],
   "source": [
    "lassobic.alpha_"
   ]
  },
  {
   "cell_type": "markdown",
   "metadata": {},
   "source": [
    "## Lasso with AIC"
   ]
  },
  {
   "cell_type": "code",
   "execution_count": 26,
   "metadata": {},
   "outputs": [
    {
     "name": "stderr",
     "output_type": "stream",
     "text": [
      "//anaconda3/envs/learn-env/lib/python3.6/site-packages/sklearn/utils/validation.py:724: DataConversionWarning: A column-vector y was passed when a 1d array was expected. Please change the shape of y to (n_samples, ), for example using ravel().\n",
      "  y = column_or_1d(y, warn=True)\n"
     ]
    },
    {
     "data": {
      "text/plain": [
       "0.709521853970287"
      ]
     },
     "execution_count": 26,
     "metadata": {},
     "output_type": "execute_result"
    }
   ],
   "source": [
    "lassoaic = LassoLarsIC('aic')\n",
    "lassoaic.fit(X_train_v,y_train_v)\n",
    "lassoaic.score(X_train_v,y_train_v)"
   ]
  },
  {
   "cell_type": "code",
   "execution_count": 27,
   "metadata": {},
   "outputs": [
    {
     "data": {
      "text/plain": [
       "0.7113568994121754"
      ]
     },
     "execution_count": 27,
     "metadata": {},
     "output_type": "execute_result"
    }
   ],
   "source": [
    "lassoaic.score(X_val,y_val)"
   ]
  },
  {
   "cell_type": "code",
   "execution_count": 28,
   "metadata": {},
   "outputs": [
    {
     "data": {
      "text/plain": [
       "array([ 0.        , -0.27480587, -0.50402825,  0.        ])"
      ]
     },
     "execution_count": 28,
     "metadata": {},
     "output_type": "execute_result"
    }
   ],
   "source": [
    "lassoaic.coef_[:4]"
   ]
  },
  {
   "cell_type": "code",
   "execution_count": 29,
   "metadata": {},
   "outputs": [
    {
     "data": {
      "text/plain": [
       "1.8045574403967986e-06"
      ]
     },
     "execution_count": 29,
     "metadata": {},
     "output_type": "execute_result"
    }
   ],
   "source": [
    "lassoaic.alpha_"
   ]
  },
  {
   "cell_type": "markdown",
   "metadata": {},
   "source": [
    "# Final check on the Test dataset"
   ]
  },
  {
   "cell_type": "code",
   "execution_count": 30,
   "metadata": {},
   "outputs": [
    {
     "name": "stderr",
     "output_type": "stream",
     "text": [
      "//anaconda3/envs/learn-env/lib/python3.6/site-packages/sklearn/utils/validation.py:724: DataConversionWarning: A column-vector y was passed when a 1d array was expected. Please change the shape of y to (n_samples, ), for example using ravel().\n",
      "  y = column_or_1d(y, warn=True)\n"
     ]
    },
    {
     "data": {
      "text/plain": [
       "0.7112870526060826"
      ]
     },
     "execution_count": 30,
     "metadata": {},
     "output_type": "execute_result"
    }
   ],
   "source": [
    "lassoaic.fit(X_train,y_train)\n",
    "lassoaic.score(X_test,y_test)"
   ]
  },
  {
   "cell_type": "code",
   "execution_count": null,
   "metadata": {},
   "outputs": [],
   "source": []
  }
 ],
 "metadata": {
  "kernelspec": {
   "display_name": "Python 3",
   "language": "python",
   "name": "python3"
  },
  "language_info": {
   "codemirror_mode": {
    "name": "ipython",
    "version": 3
   },
   "file_extension": ".py",
   "mimetype": "text/x-python",
   "name": "python",
   "nbconvert_exporter": "python",
   "pygments_lexer": "ipython3",
   "version": "3.6.9"
  }
 },
 "nbformat": 4,
 "nbformat_minor": 2
}
