{
 "cells": [
  {
   "cell_type": "code",
   "execution_count": 1,
   "metadata": {},
   "outputs": [],
   "source": [
    "import numpy as np\n",
    "import pandas as pd\n",
    "\n",
    "from sklearn.model_selection import train_test_split,KFold,cross_validate\n",
    "from sklearn.preprocessing import PolynomialFeatures,StandardScaler\n",
    "\n",
    "from sklearn.linear_model import LinearRegression,Ridge,Lasso,ElasticNet,LassoLarsIC\n",
    "from sklearn.datasets import california_housing"
   ]
  },
  {
   "cell_type": "code",
   "execution_count": 2,
   "metadata": {},
   "outputs": [],
   "source": [
    "data = california_housing.fetch_california_housing()"
   ]
  },
  {
   "cell_type": "code",
   "execution_count": 3,
   "metadata": {},
   "outputs": [],
   "source": [
    "X = pd.DataFrame(data['data'],columns=data['feature_names'])\n",
    "y = pd.DataFrame(data['target'])"
   ]
  },
  {
   "cell_type": "code",
   "execution_count": 4,
   "metadata": {},
   "outputs": [
    {
     "data": {
      "text/html": [
       "<div>\n",
       "<style scoped>\n",
       "    .dataframe tbody tr th:only-of-type {\n",
       "        vertical-align: middle;\n",
       "    }\n",
       "\n",
       "    .dataframe tbody tr th {\n",
       "        vertical-align: top;\n",
       "    }\n",
       "\n",
       "    .dataframe thead th {\n",
       "        text-align: right;\n",
       "    }\n",
       "</style>\n",
       "<table border=\"1\" class=\"dataframe\">\n",
       "  <thead>\n",
       "    <tr style=\"text-align: right;\">\n",
       "      <th></th>\n",
       "      <th>MedInc</th>\n",
       "      <th>HouseAge</th>\n",
       "      <th>AveRooms</th>\n",
       "      <th>AveBedrms</th>\n",
       "      <th>Population</th>\n",
       "      <th>AveOccup</th>\n",
       "      <th>Latitude</th>\n",
       "      <th>Longitude</th>\n",
       "    </tr>\n",
       "  </thead>\n",
       "  <tbody>\n",
       "    <tr>\n",
       "      <td>0</td>\n",
       "      <td>8.3252</td>\n",
       "      <td>41.0</td>\n",
       "      <td>6.984127</td>\n",
       "      <td>1.023810</td>\n",
       "      <td>322.0</td>\n",
       "      <td>2.555556</td>\n",
       "      <td>37.88</td>\n",
       "      <td>-122.23</td>\n",
       "    </tr>\n",
       "    <tr>\n",
       "      <td>1</td>\n",
       "      <td>8.3014</td>\n",
       "      <td>21.0</td>\n",
       "      <td>6.238137</td>\n",
       "      <td>0.971880</td>\n",
       "      <td>2401.0</td>\n",
       "      <td>2.109842</td>\n",
       "      <td>37.86</td>\n",
       "      <td>-122.22</td>\n",
       "    </tr>\n",
       "    <tr>\n",
       "      <td>2</td>\n",
       "      <td>7.2574</td>\n",
       "      <td>52.0</td>\n",
       "      <td>8.288136</td>\n",
       "      <td>1.073446</td>\n",
       "      <td>496.0</td>\n",
       "      <td>2.802260</td>\n",
       "      <td>37.85</td>\n",
       "      <td>-122.24</td>\n",
       "    </tr>\n",
       "    <tr>\n",
       "      <td>3</td>\n",
       "      <td>5.6431</td>\n",
       "      <td>52.0</td>\n",
       "      <td>5.817352</td>\n",
       "      <td>1.073059</td>\n",
       "      <td>558.0</td>\n",
       "      <td>2.547945</td>\n",
       "      <td>37.85</td>\n",
       "      <td>-122.25</td>\n",
       "    </tr>\n",
       "    <tr>\n",
       "      <td>4</td>\n",
       "      <td>3.8462</td>\n",
       "      <td>52.0</td>\n",
       "      <td>6.281853</td>\n",
       "      <td>1.081081</td>\n",
       "      <td>565.0</td>\n",
       "      <td>2.181467</td>\n",
       "      <td>37.85</td>\n",
       "      <td>-122.25</td>\n",
       "    </tr>\n",
       "  </tbody>\n",
       "</table>\n",
       "</div>"
      ],
      "text/plain": [
       "   MedInc  HouseAge  AveRooms  AveBedrms  Population  AveOccup  Latitude  \\\n",
       "0  8.3252      41.0  6.984127   1.023810       322.0  2.555556     37.88   \n",
       "1  8.3014      21.0  6.238137   0.971880      2401.0  2.109842     37.86   \n",
       "2  7.2574      52.0  8.288136   1.073446       496.0  2.802260     37.85   \n",
       "3  5.6431      52.0  5.817352   1.073059       558.0  2.547945     37.85   \n",
       "4  3.8462      52.0  6.281853   1.081081       565.0  2.181467     37.85   \n",
       "\n",
       "   Longitude  \n",
       "0    -122.23  \n",
       "1    -122.22  \n",
       "2    -122.24  \n",
       "3    -122.25  \n",
       "4    -122.25  "
      ]
     },
     "execution_count": 4,
     "metadata": {},
     "output_type": "execute_result"
    }
   ],
   "source": [
    "X.head()"
   ]
  },
  {
   "cell_type": "markdown",
   "metadata": {},
   "source": [
    "# Feature Engineering"
   ]
  },
  {
   "cell_type": "code",
   "execution_count": 5,
   "metadata": {},
   "outputs": [
    {
     "data": {
      "text/html": [
       "<div>\n",
       "<style scoped>\n",
       "    .dataframe tbody tr th:only-of-type {\n",
       "        vertical-align: middle;\n",
       "    }\n",
       "\n",
       "    .dataframe tbody tr th {\n",
       "        vertical-align: top;\n",
       "    }\n",
       "\n",
       "    .dataframe thead th {\n",
       "        text-align: right;\n",
       "    }\n",
       "</style>\n",
       "<table border=\"1\" class=\"dataframe\">\n",
       "  <thead>\n",
       "    <tr style=\"text-align: right;\">\n",
       "      <th></th>\n",
       "      <th>1</th>\n",
       "      <th>MedInc</th>\n",
       "      <th>HouseAge</th>\n",
       "      <th>AveRooms</th>\n",
       "      <th>AveBedrms</th>\n",
       "      <th>Population</th>\n",
       "      <th>AveOccup</th>\n",
       "      <th>Latitude</th>\n",
       "      <th>Longitude</th>\n",
       "      <th>MedInc^2</th>\n",
       "      <th>...</th>\n",
       "      <th>AveOccup^2 Longitude^2</th>\n",
       "      <th>AveOccup Latitude^3</th>\n",
       "      <th>AveOccup Latitude^2 Longitude</th>\n",
       "      <th>AveOccup Latitude Longitude^2</th>\n",
       "      <th>AveOccup Longitude^3</th>\n",
       "      <th>Latitude^4</th>\n",
       "      <th>Latitude^3 Longitude</th>\n",
       "      <th>Latitude^2 Longitude^2</th>\n",
       "      <th>Latitude Longitude^3</th>\n",
       "      <th>Longitude^4</th>\n",
       "    </tr>\n",
       "  </thead>\n",
       "  <tbody>\n",
       "    <tr>\n",
       "      <td>0</td>\n",
       "      <td>1.0</td>\n",
       "      <td>8.3252</td>\n",
       "      <td>41.0</td>\n",
       "      <td>6.984127</td>\n",
       "      <td>1.023810</td>\n",
       "      <td>322.0</td>\n",
       "      <td>2.555556</td>\n",
       "      <td>37.88</td>\n",
       "      <td>-122.23</td>\n",
       "      <td>69.308955</td>\n",
       "      <td>...</td>\n",
       "      <td>97572.240298</td>\n",
       "      <td>138904.155228</td>\n",
       "      <td>-448211.586420</td>\n",
       "      <td>1.446275e+06</td>\n",
       "      <td>-4.666795e+06</td>\n",
       "      <td>2.058922e+06</td>\n",
       "      <td>-6.643665e+06</td>\n",
       "      <td>2.143757e+07</td>\n",
       "      <td>-6.917408e+07</td>\n",
       "      <td>2.232088e+08</td>\n",
       "    </tr>\n",
       "    <tr>\n",
       "      <td>1</td>\n",
       "      <td>1.0</td>\n",
       "      <td>8.3014</td>\n",
       "      <td>21.0</td>\n",
       "      <td>6.238137</td>\n",
       "      <td>0.971880</td>\n",
       "      <td>2401.0</td>\n",
       "      <td>2.109842</td>\n",
       "      <td>37.86</td>\n",
       "      <td>-122.22</td>\n",
       "      <td>68.913242</td>\n",
       "      <td>...</td>\n",
       "      <td>66494.290247</td>\n",
       "      <td>114496.372343</td>\n",
       "      <td>-369618.241620</td>\n",
       "      <td>1.193205e+06</td>\n",
       "      <td>-3.851915e+06</td>\n",
       "      <td>2.054577e+06</td>\n",
       "      <td>-6.632605e+06</td>\n",
       "      <td>2.141144e+07</td>\n",
       "      <td>-6.912059e+07</td>\n",
       "      <td>2.231357e+08</td>\n",
       "    </tr>\n",
       "    <tr>\n",
       "      <td>2</td>\n",
       "      <td>1.0</td>\n",
       "      <td>7.2574</td>\n",
       "      <td>52.0</td>\n",
       "      <td>8.288136</td>\n",
       "      <td>1.073446</td>\n",
       "      <td>496.0</td>\n",
       "      <td>2.802260</td>\n",
       "      <td>37.85</td>\n",
       "      <td>-122.24</td>\n",
       "      <td>52.669855</td>\n",
       "      <td>...</td>\n",
       "      <td>117339.302610</td>\n",
       "      <td>151951.874384</td>\n",
       "      <td>-490742.328262</td>\n",
       "      <td>1.584897e+06</td>\n",
       "      <td>-5.118567e+06</td>\n",
       "      <td>2.052407e+06</td>\n",
       "      <td>-6.628435e+06</td>\n",
       "      <td>2.140713e+07</td>\n",
       "      <td>-6.913626e+07</td>\n",
       "      <td>2.232818e+08</td>\n",
       "    </tr>\n",
       "    <tr>\n",
       "      <td>3</td>\n",
       "      <td>1.0</td>\n",
       "      <td>5.6431</td>\n",
       "      <td>52.0</td>\n",
       "      <td>5.817352</td>\n",
       "      <td>1.073059</td>\n",
       "      <td>558.0</td>\n",
       "      <td>2.547945</td>\n",
       "      <td>37.85</td>\n",
       "      <td>-122.25</td>\n",
       "      <td>31.844578</td>\n",
       "      <td>...</td>\n",
       "      <td>97023.715941</td>\n",
       "      <td>138161.721401</td>\n",
       "      <td>-446242.283784</td>\n",
       "      <td>1.441298e+06</td>\n",
       "      <td>-4.655182e+06</td>\n",
       "      <td>2.052407e+06</td>\n",
       "      <td>-6.628977e+06</td>\n",
       "      <td>2.141063e+07</td>\n",
       "      <td>-6.915323e+07</td>\n",
       "      <td>2.233549e+08</td>\n",
       "    </tr>\n",
       "    <tr>\n",
       "      <td>4</td>\n",
       "      <td>1.0</td>\n",
       "      <td>3.8462</td>\n",
       "      <td>52.0</td>\n",
       "      <td>6.281853</td>\n",
       "      <td>1.081081</td>\n",
       "      <td>565.0</td>\n",
       "      <td>2.181467</td>\n",
       "      <td>37.85</td>\n",
       "      <td>-122.25</td>\n",
       "      <td>14.793254</td>\n",
       "      <td>...</td>\n",
       "      <td>71120.549434</td>\n",
       "      <td>118289.537908</td>\n",
       "      <td>-382058.018738</td>\n",
       "      <td>1.233992e+06</td>\n",
       "      <td>-3.985614e+06</td>\n",
       "      <td>2.052407e+06</td>\n",
       "      <td>-6.628977e+06</td>\n",
       "      <td>2.141063e+07</td>\n",
       "      <td>-6.915323e+07</td>\n",
       "      <td>2.233549e+08</td>\n",
       "    </tr>\n",
       "  </tbody>\n",
       "</table>\n",
       "<p>5 rows × 495 columns</p>\n",
       "</div>"
      ],
      "text/plain": [
       "     1  MedInc  HouseAge  AveRooms  AveBedrms  Population  AveOccup  Latitude  \\\n",
       "0  1.0  8.3252      41.0  6.984127   1.023810       322.0  2.555556     37.88   \n",
       "1  1.0  8.3014      21.0  6.238137   0.971880      2401.0  2.109842     37.86   \n",
       "2  1.0  7.2574      52.0  8.288136   1.073446       496.0  2.802260     37.85   \n",
       "3  1.0  5.6431      52.0  5.817352   1.073059       558.0  2.547945     37.85   \n",
       "4  1.0  3.8462      52.0  6.281853   1.081081       565.0  2.181467     37.85   \n",
       "\n",
       "   Longitude   MedInc^2  ...  AveOccup^2 Longitude^2  AveOccup Latitude^3  \\\n",
       "0    -122.23  69.308955  ...            97572.240298        138904.155228   \n",
       "1    -122.22  68.913242  ...            66494.290247        114496.372343   \n",
       "2    -122.24  52.669855  ...           117339.302610        151951.874384   \n",
       "3    -122.25  31.844578  ...            97023.715941        138161.721401   \n",
       "4    -122.25  14.793254  ...            71120.549434        118289.537908   \n",
       "\n",
       "   AveOccup Latitude^2 Longitude  AveOccup Latitude Longitude^2  \\\n",
       "0                 -448211.586420                   1.446275e+06   \n",
       "1                 -369618.241620                   1.193205e+06   \n",
       "2                 -490742.328262                   1.584897e+06   \n",
       "3                 -446242.283784                   1.441298e+06   \n",
       "4                 -382058.018738                   1.233992e+06   \n",
       "\n",
       "   AveOccup Longitude^3    Latitude^4  Latitude^3 Longitude  \\\n",
       "0         -4.666795e+06  2.058922e+06         -6.643665e+06   \n",
       "1         -3.851915e+06  2.054577e+06         -6.632605e+06   \n",
       "2         -5.118567e+06  2.052407e+06         -6.628435e+06   \n",
       "3         -4.655182e+06  2.052407e+06         -6.628977e+06   \n",
       "4         -3.985614e+06  2.052407e+06         -6.628977e+06   \n",
       "\n",
       "   Latitude^2 Longitude^2  Latitude Longitude^3   Longitude^4  \n",
       "0            2.143757e+07         -6.917408e+07  2.232088e+08  \n",
       "1            2.141144e+07         -6.912059e+07  2.231357e+08  \n",
       "2            2.140713e+07         -6.913626e+07  2.232818e+08  \n",
       "3            2.141063e+07         -6.915323e+07  2.233549e+08  \n",
       "4            2.141063e+07         -6.915323e+07  2.233549e+08  \n",
       "\n",
       "[5 rows x 495 columns]"
      ]
     },
     "execution_count": 5,
     "metadata": {},
     "output_type": "execute_result"
    }
   ],
   "source": [
    "poly = PolynomialFeatures(4)\n",
    "X_poly = poly.fit_transform(X)\n",
    "X_poly = pd.DataFrame(X_poly,columns = poly.get_feature_names(X.columns))\n",
    "X_poly.head()"
   ]
  },
  {
   "cell_type": "markdown",
   "metadata": {},
   "source": [
    "# Train / Validation / Test split"
   ]
  },
  {
   "cell_type": "code",
   "execution_count": 6,
   "metadata": {},
   "outputs": [],
   "source": [
    "X_train, X_test, y_train, y_test = train_test_split(X_poly,y,test_size=1000, random_state=42)\n",
    "X_train_v, X_val, y_train_v, y_val = train_test_split(X_train,y_train,test_size=1000, random_state=123)"
   ]
  },
  {
   "cell_type": "code",
   "execution_count": 7,
   "metadata": {},
   "outputs": [],
   "source": [
    "scaler = StandardScaler()"
   ]
  },
  {
   "cell_type": "code",
   "execution_count": 8,
   "metadata": {},
   "outputs": [],
   "source": [
    "scaler.fit(X_train_v)\n",
    "\n",
    "X_train_v = scaler.transform(X_train_v)\n",
    "X_val = scaler.transform(X_val)\n",
    "\n",
    "X_train = scaler.transform(X_train)\n",
    "X_test = scaler.transform(X_test)"
   ]
  },
  {
   "cell_type": "code",
   "execution_count": 9,
   "metadata": {},
   "outputs": [
    {
     "data": {
      "text/html": [
       "<div>\n",
       "<style scoped>\n",
       "    .dataframe tbody tr th:only-of-type {\n",
       "        vertical-align: middle;\n",
       "    }\n",
       "\n",
       "    .dataframe tbody tr th {\n",
       "        vertical-align: top;\n",
       "    }\n",
       "\n",
       "    .dataframe thead th {\n",
       "        text-align: right;\n",
       "    }\n",
       "</style>\n",
       "<table border=\"1\" class=\"dataframe\">\n",
       "  <thead>\n",
       "    <tr style=\"text-align: right;\">\n",
       "      <th></th>\n",
       "      <th>1</th>\n",
       "      <th>MedInc</th>\n",
       "      <th>HouseAge</th>\n",
       "      <th>AveRooms</th>\n",
       "      <th>AveBedrms</th>\n",
       "      <th>Population</th>\n",
       "      <th>AveOccup</th>\n",
       "      <th>Latitude</th>\n",
       "      <th>Longitude</th>\n",
       "      <th>MedInc^2</th>\n",
       "      <th>...</th>\n",
       "      <th>AveOccup^2 Longitude^2</th>\n",
       "      <th>AveOccup Latitude^3</th>\n",
       "      <th>AveOccup Latitude^2 Longitude</th>\n",
       "      <th>AveOccup Latitude Longitude^2</th>\n",
       "      <th>AveOccup Longitude^3</th>\n",
       "      <th>Latitude^4</th>\n",
       "      <th>Latitude^3 Longitude</th>\n",
       "      <th>Latitude^2 Longitude^2</th>\n",
       "      <th>Latitude Longitude^3</th>\n",
       "      <th>Longitude^4</th>\n",
       "    </tr>\n",
       "  </thead>\n",
       "  <tbody>\n",
       "    <tr>\n",
       "      <td>0</td>\n",
       "      <td>0.0</td>\n",
       "      <td>-0.031841</td>\n",
       "      <td>-0.606435</td>\n",
       "      <td>0.178642</td>\n",
       "      <td>0.160661</td>\n",
       "      <td>-0.595176</td>\n",
       "      <td>0.041127</td>\n",
       "      <td>-0.545903</td>\n",
       "      <td>-0.237692</td>\n",
       "      <td>-0.186257</td>\n",
       "      <td>...</td>\n",
       "      <td>-0.009830</td>\n",
       "      <td>0.005252</td>\n",
       "      <td>-0.016561</td>\n",
       "      <td>0.029028</td>\n",
       "      <td>-0.042681</td>\n",
       "      <td>-0.581496</td>\n",
       "      <td>0.519800</td>\n",
       "      <td>-0.417376</td>\n",
       "      <td>0.226303</td>\n",
       "      <td>0.212196</td>\n",
       "    </tr>\n",
       "    <tr>\n",
       "      <td>1</td>\n",
       "      <td>0.0</td>\n",
       "      <td>0.710348</td>\n",
       "      <td>-1.955232</td>\n",
       "      <td>2.009597</td>\n",
       "      <td>0.717012</td>\n",
       "      <td>-0.975745</td>\n",
       "      <td>0.026930</td>\n",
       "      <td>-0.995294</td>\n",
       "      <td>1.124305</td>\n",
       "      <td>0.398111</td>\n",
       "      <td>...</td>\n",
       "      <td>-0.009960</td>\n",
       "      <td>-0.023165</td>\n",
       "      <td>0.013604</td>\n",
       "      <td>-0.002856</td>\n",
       "      <td>-0.009131</td>\n",
       "      <td>-0.952464</td>\n",
       "      <td>0.978705</td>\n",
       "      <td>-1.011467</td>\n",
       "      <td>1.055372</td>\n",
       "      <td>-1.109298</td>\n",
       "    </tr>\n",
       "    <tr>\n",
       "      <td>2</td>\n",
       "      <td>0.0</td>\n",
       "      <td>-0.442032</td>\n",
       "      <td>1.297749</td>\n",
       "      <td>-0.468423</td>\n",
       "      <td>-0.443074</td>\n",
       "      <td>-0.389582</td>\n",
       "      <td>-0.041752</td>\n",
       "      <td>1.083141</td>\n",
       "      <td>-1.375184</td>\n",
       "      <td>-0.431269</td>\n",
       "      <td>...</td>\n",
       "      <td>-0.010268</td>\n",
       "      <td>0.003544</td>\n",
       "      <td>0.004389</td>\n",
       "      <td>-0.013453</td>\n",
       "      <td>0.023692</td>\n",
       "      <td>1.047769</td>\n",
       "      <td>-1.096871</td>\n",
       "      <td>1.159550</td>\n",
       "      <td>-1.248752</td>\n",
       "      <td>1.387178</td>\n",
       "    </tr>\n",
       "    <tr>\n",
       "      <td>3</td>\n",
       "      <td>0.0</td>\n",
       "      <td>0.035014</td>\n",
       "      <td>-1.717209</td>\n",
       "      <td>-0.036640</td>\n",
       "      <td>-0.136730</td>\n",
       "      <td>1.251674</td>\n",
       "      <td>0.005834</td>\n",
       "      <td>1.438909</td>\n",
       "      <td>-0.901229</td>\n",
       "      <td>-0.141064</td>\n",
       "      <td>...</td>\n",
       "      <td>-0.010024</td>\n",
       "      <td>0.066459</td>\n",
       "      <td>-0.051657</td>\n",
       "      <td>0.035507</td>\n",
       "      <td>-0.018016</td>\n",
       "      <td>1.468881</td>\n",
       "      <td>-1.420977</td>\n",
       "      <td>1.346491</td>\n",
       "      <td>-1.211717</td>\n",
       "      <td>0.889535</td>\n",
       "    </tr>\n",
       "    <tr>\n",
       "      <td>4</td>\n",
       "      <td>0.0</td>\n",
       "      <td>-0.714486</td>\n",
       "      <td>-0.447753</td>\n",
       "      <td>-0.130547</td>\n",
       "      <td>-0.150741</td>\n",
       "      <td>-0.386957</td>\n",
       "      <td>-0.041662</td>\n",
       "      <td>1.101866</td>\n",
       "      <td>-0.362417</td>\n",
       "      <td>-0.563336</td>\n",
       "      <td>...</td>\n",
       "      <td>-0.010287</td>\n",
       "      <td>0.004366</td>\n",
       "      <td>0.007742</td>\n",
       "      <td>-0.021066</td>\n",
       "      <td>0.035617</td>\n",
       "      <td>1.069312</td>\n",
       "      <td>-1.014503</td>\n",
       "      <td>0.922587</td>\n",
       "      <td>-0.748965</td>\n",
       "      <td>0.337810</td>\n",
       "    </tr>\n",
       "  </tbody>\n",
       "</table>\n",
       "<p>5 rows × 495 columns</p>\n",
       "</div>"
      ],
      "text/plain": [
       "     1    MedInc  HouseAge  AveRooms  AveBedrms  Population  AveOccup  \\\n",
       "0  0.0 -0.031841 -0.606435  0.178642   0.160661   -0.595176  0.041127   \n",
       "1  0.0  0.710348 -1.955232  2.009597   0.717012   -0.975745  0.026930   \n",
       "2  0.0 -0.442032  1.297749 -0.468423  -0.443074   -0.389582 -0.041752   \n",
       "3  0.0  0.035014 -1.717209 -0.036640  -0.136730    1.251674  0.005834   \n",
       "4  0.0 -0.714486 -0.447753 -0.130547  -0.150741   -0.386957 -0.041662   \n",
       "\n",
       "   Latitude  Longitude  MedInc^2  ...  AveOccup^2 Longitude^2  \\\n",
       "0 -0.545903  -0.237692 -0.186257  ...               -0.009830   \n",
       "1 -0.995294   1.124305  0.398111  ...               -0.009960   \n",
       "2  1.083141  -1.375184 -0.431269  ...               -0.010268   \n",
       "3  1.438909  -0.901229 -0.141064  ...               -0.010024   \n",
       "4  1.101866  -0.362417 -0.563336  ...               -0.010287   \n",
       "\n",
       "   AveOccup Latitude^3  AveOccup Latitude^2 Longitude  \\\n",
       "0             0.005252                      -0.016561   \n",
       "1            -0.023165                       0.013604   \n",
       "2             0.003544                       0.004389   \n",
       "3             0.066459                      -0.051657   \n",
       "4             0.004366                       0.007742   \n",
       "\n",
       "   AveOccup Latitude Longitude^2  AveOccup Longitude^3  Latitude^4  \\\n",
       "0                       0.029028             -0.042681   -0.581496   \n",
       "1                      -0.002856             -0.009131   -0.952464   \n",
       "2                      -0.013453              0.023692    1.047769   \n",
       "3                       0.035507             -0.018016    1.468881   \n",
       "4                      -0.021066              0.035617    1.069312   \n",
       "\n",
       "   Latitude^3 Longitude  Latitude^2 Longitude^2  Latitude Longitude^3  \\\n",
       "0              0.519800               -0.417376              0.226303   \n",
       "1              0.978705               -1.011467              1.055372   \n",
       "2             -1.096871                1.159550             -1.248752   \n",
       "3             -1.420977                1.346491             -1.211717   \n",
       "4             -1.014503                0.922587             -0.748965   \n",
       "\n",
       "   Longitude^4  \n",
       "0     0.212196  \n",
       "1    -1.109298  \n",
       "2     1.387178  \n",
       "3     0.889535  \n",
       "4     0.337810  \n",
       "\n",
       "[5 rows x 495 columns]"
      ]
     },
     "execution_count": 9,
     "metadata": {},
     "output_type": "execute_result"
    }
   ],
   "source": [
    "X_train_v = pd.DataFrame(X_train_v,columns = poly.get_feature_names(X.columns))\n",
    "X_train_v.head()"
   ]
  },
  {
   "cell_type": "markdown",
   "metadata": {},
   "source": [
    "# Fit and evaluate model"
   ]
  },
  {
   "cell_type": "code",
   "execution_count": 10,
   "metadata": {},
   "outputs": [
    {
     "data": {
      "text/plain": [
       "0.7860248960326462"
      ]
     },
     "execution_count": 10,
     "metadata": {},
     "output_type": "execute_result"
    }
   ],
   "source": [
    "lin_reg = LinearRegression()\n",
    "lin_reg.fit(X_train_v,y_train_v)\n",
    "lin_reg.score(X_train_v,y_train_v)"
   ]
  },
  {
   "cell_type": "code",
   "execution_count": 11,
   "metadata": {},
   "outputs": [
    {
     "data": {
      "text/plain": [
       "0.08289367918819879"
      ]
     },
     "execution_count": 11,
     "metadata": {},
     "output_type": "execute_result"
    }
   ],
   "source": [
    "lin_reg.score(X_val,y_val)"
   ]
  },
  {
   "cell_type": "code",
   "execution_count": 12,
   "metadata": {},
   "outputs": [
    {
     "data": {
      "text/plain": [
       "array([-2.77837740e-02, -2.85041581e+01, -1.74602175e+04,  3.06457446e+03])"
      ]
     },
     "execution_count": 12,
     "metadata": {},
     "output_type": "execute_result"
    }
   ],
   "source": [
    "lin_reg.coef_[0][:4]"
   ]
  },
  {
   "cell_type": "markdown",
   "metadata": {},
   "source": [
    "## Ridge"
   ]
  },
  {
   "cell_type": "code",
   "execution_count": 13,
   "metadata": {},
   "outputs": [
    {
     "data": {
      "text/plain": [
       "0.7432457622992911"
      ]
     },
     "execution_count": 13,
     "metadata": {},
     "output_type": "execute_result"
    }
   ],
   "source": [
    "ridge = Ridge(.01)\n",
    "ridge.fit(X_train_v,y_train_v)\n",
    "ridge.score(X_train_v,y_train_v)"
   ]
  },
  {
   "cell_type": "code",
   "execution_count": 14,
   "metadata": {},
   "outputs": [
    {
     "data": {
      "text/plain": [
       "0.7222128760745654"
      ]
     },
     "execution_count": 14,
     "metadata": {},
     "output_type": "execute_result"
    }
   ],
   "source": [
    "ridge.score(X_val,y_val)"
   ]
  },
  {
   "cell_type": "code",
   "execution_count": 15,
   "metadata": {},
   "outputs": [
    {
     "data": {
      "text/plain": [
       "array([ 0.        , -2.64438438, -2.82102713,  6.01174362])"
      ]
     },
     "execution_count": 15,
     "metadata": {},
     "output_type": "execute_result"
    }
   ],
   "source": [
    "ridge.coef_[0][:4]"
   ]
  },
  {
   "cell_type": "markdown",
   "metadata": {},
   "source": [
    "## Lasso"
   ]
  },
  {
   "cell_type": "code",
   "execution_count": 16,
   "metadata": {},
   "outputs": [
    {
     "name": "stderr",
     "output_type": "stream",
     "text": [
      "//anaconda3/envs/learn-env/lib/python3.6/site-packages/sklearn/linear_model/coordinate_descent.py:475: ConvergenceWarning: Objective did not converge. You might want to increase the number of iterations. Duality gap: 4.3211076562038215, tolerance: 2.4834369035185597\n",
      "  positive)\n"
     ]
    },
    {
     "data": {
      "text/plain": [
       "0.6391517029387219"
      ]
     },
     "execution_count": 16,
     "metadata": {},
     "output_type": "execute_result"
    }
   ],
   "source": [
    "lasso = Lasso(.01)\n",
    "lasso.fit(X_train_v,y_train_v)\n",
    "lasso.score(X_train_v,y_train_v)"
   ]
  },
  {
   "cell_type": "code",
   "execution_count": 17,
   "metadata": {},
   "outputs": [
    {
     "data": {
      "text/plain": [
       "0.6288515164354378"
      ]
     },
     "execution_count": 17,
     "metadata": {},
     "output_type": "execute_result"
    }
   ],
   "source": [
    "lasso.score(X_val,y_val)"
   ]
  },
  {
   "cell_type": "code",
   "execution_count": 18,
   "metadata": {},
   "outputs": [
    {
     "data": {
      "text/plain": [
       "array([ 0.        ,  0.06957557, -0.        , -0.        ])"
      ]
     },
     "execution_count": 18,
     "metadata": {},
     "output_type": "execute_result"
    }
   ],
   "source": [
    "lasso.coef_[:4]"
   ]
  },
  {
   "cell_type": "markdown",
   "metadata": {},
   "source": [
    "## Elastic net"
   ]
  },
  {
   "cell_type": "code",
   "execution_count": 19,
   "metadata": {},
   "outputs": [
    {
     "name": "stderr",
     "output_type": "stream",
     "text": [
      "//anaconda3/envs/learn-env/lib/python3.6/site-packages/sklearn/linear_model/coordinate_descent.py:475: ConvergenceWarning: Objective did not converge. You might want to increase the number of iterations. Duality gap: 12.073757610618486, tolerance: 2.4834369035185597\n",
      "  positive)\n"
     ]
    },
    {
     "data": {
      "text/plain": [
       "0.653078070028835"
      ]
     },
     "execution_count": 19,
     "metadata": {},
     "output_type": "execute_result"
    }
   ],
   "source": [
    "elastic = ElasticNet(.01)\n",
    "elastic.fit(X_train_v,y_train_v)\n",
    "elastic.score(X_train_v,y_train_v)"
   ]
  },
  {
   "cell_type": "code",
   "execution_count": 20,
   "metadata": {},
   "outputs": [
    {
     "data": {
      "text/plain": [
       "0.6405229534456697"
      ]
     },
     "execution_count": 20,
     "metadata": {},
     "output_type": "execute_result"
    }
   ],
   "source": [
    "elastic.score(X_val,y_val)"
   ]
  },
  {
   "cell_type": "code",
   "execution_count": 21,
   "metadata": {},
   "outputs": [
    {
     "data": {
      "text/plain": [
       "array([ 0.        ,  0.07880727, -0.        , -0.        ])"
      ]
     },
     "execution_count": 21,
     "metadata": {},
     "output_type": "execute_result"
    }
   ],
   "source": [
    "elastic.coef_[:4]"
   ]
  },
  {
   "cell_type": "markdown",
   "metadata": {},
   "source": [
    "## Lasso with BIC"
   ]
  },
  {
   "cell_type": "code",
   "execution_count": 22,
   "metadata": {},
   "outputs": [
    {
     "name": "stderr",
     "output_type": "stream",
     "text": [
      "//anaconda3/envs/learn-env/lib/python3.6/site-packages/sklearn/utils/validation.py:724: DataConversionWarning: A column-vector y was passed when a 1d array was expected. Please change the shape of y to (n_samples, ), for example using ravel().\n",
      "  y = column_or_1d(y, warn=True)\n"
     ]
    },
    {
     "data": {
      "text/plain": [
       "0.7072892146808394"
      ]
     },
     "execution_count": 22,
     "metadata": {},
     "output_type": "execute_result"
    }
   ],
   "source": [
    "lassobic = LassoLarsIC('bic')\n",
    "lassobic.fit(X_train_v,y_train_v)\n",
    "lassobic.score(X_train_v,y_train_v)"
   ]
  },
  {
   "cell_type": "code",
   "execution_count": 23,
   "metadata": {},
   "outputs": [
    {
     "data": {
      "text/plain": [
       "0.7083725599709958"
      ]
     },
     "execution_count": 23,
     "metadata": {},
     "output_type": "execute_result"
    }
   ],
   "source": [
    "lassobic.score(X_val,y_val)"
   ]
  },
  {
   "cell_type": "code",
   "execution_count": 24,
   "metadata": {},
   "outputs": [
    {
     "data": {
      "text/plain": [
       "array([ 0.        , -1.04842472, -0.87447034,  0.        ])"
      ]
     },
     "execution_count": 24,
     "metadata": {},
     "output_type": "execute_result"
    }
   ],
   "source": [
    "lassobic.coef_[:4]"
   ]
  },
  {
   "cell_type": "code",
   "execution_count": 25,
   "metadata": {},
   "outputs": [
    {
     "data": {
      "text/plain": [
       "1.3490839925834908e-06"
      ]
     },
     "execution_count": 25,
     "metadata": {},
     "output_type": "execute_result"
    }
   ],
   "source": [
    "lassobic.alpha_"
   ]
  },
  {
   "cell_type": "markdown",
   "metadata": {},
   "source": [
    "## Lasso with AIC"
   ]
  },
  {
   "cell_type": "code",
   "execution_count": 26,
   "metadata": {},
   "outputs": [
    {
     "name": "stderr",
     "output_type": "stream",
     "text": [
      "//anaconda3/envs/learn-env/lib/python3.6/site-packages/sklearn/utils/validation.py:724: DataConversionWarning: A column-vector y was passed when a 1d array was expected. Please change the shape of y to (n_samples, ), for example using ravel().\n",
      "  y = column_or_1d(y, warn=True)\n"
     ]
    },
    {
     "data": {
      "text/plain": [
       "0.722420095325462"
      ]
     },
     "execution_count": 26,
     "metadata": {},
     "output_type": "execute_result"
    }
   ],
   "source": [
    "lassoaic = LassoLarsIC('aic')\n",
    "lassoaic.fit(X_train_v,y_train_v)\n",
    "lassoaic.score(X_train_v,y_train_v)"
   ]
  },
  {
   "cell_type": "code",
   "execution_count": 27,
   "metadata": {},
   "outputs": [
    {
     "data": {
      "text/plain": [
       "0.7172793533768542"
      ]
     },
     "execution_count": 27,
     "metadata": {},
     "output_type": "execute_result"
    }
   ],
   "source": [
    "lassoaic.score(X_val,y_val)"
   ]
  },
  {
   "cell_type": "code",
   "execution_count": 28,
   "metadata": {},
   "outputs": [
    {
     "data": {
      "text/plain": [
       "array([ 0.        , -2.10251945, -1.5630619 ,  0.59039225])"
      ]
     },
     "execution_count": 28,
     "metadata": {},
     "output_type": "execute_result"
    }
   ],
   "source": [
    "lassoaic.coef_[:4]"
   ]
  },
  {
   "cell_type": "code",
   "execution_count": 29,
   "metadata": {},
   "outputs": [
    {
     "data": {
      "text/plain": [
       "3.034595585936979e-07"
      ]
     },
     "execution_count": 29,
     "metadata": {},
     "output_type": "execute_result"
    }
   ],
   "source": [
    "lassoaic.alpha_"
   ]
  },
  {
   "cell_type": "markdown",
   "metadata": {},
   "source": [
    "# Final check on the Test dataset"
   ]
  },
  {
   "cell_type": "code",
   "execution_count": 30,
   "metadata": {},
   "outputs": [
    {
     "name": "stderr",
     "output_type": "stream",
     "text": [
      "//anaconda3/envs/learn-env/lib/python3.6/site-packages/sklearn/utils/validation.py:724: DataConversionWarning: A column-vector y was passed when a 1d array was expected. Please change the shape of y to (n_samples, ), for example using ravel().\n",
      "  y = column_or_1d(y, warn=True)\n"
     ]
    },
    {
     "data": {
      "text/plain": [
       "0.7197468684407464"
      ]
     },
     "execution_count": 30,
     "metadata": {},
     "output_type": "execute_result"
    }
   ],
   "source": [
    "lassoaic.fit(X_train,y_train)\n",
    "lassoaic.score(X_test,y_test)"
   ]
  },
  {
   "cell_type": "code",
   "execution_count": null,
   "metadata": {},
   "outputs": [],
   "source": []
  }
 ],
 "metadata": {
  "kernelspec": {
   "display_name": "Python 3",
   "language": "python",
   "name": "python3"
  },
  "language_info": {
   "codemirror_mode": {
    "name": "ipython",
    "version": 3
   },
   "file_extension": ".py",
   "mimetype": "text/x-python",
   "name": "python",
   "nbconvert_exporter": "python",
   "pygments_lexer": "ipython3",
   "version": "3.6.9"
  }
 },
 "nbformat": 4,
 "nbformat_minor": 2
}
