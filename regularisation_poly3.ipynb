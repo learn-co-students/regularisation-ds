{
 "cells": [
  {
   "cell_type": "code",
   "execution_count": 1,
   "metadata": {},
   "outputs": [],
   "source": [
    "import numpy as np\n",
    "import pandas as pd\n",
    "\n",
    "from sklearn.model_selection import train_test_split,KFold,cross_validate\n",
    "from sklearn.preprocessing import PolynomialFeatures,StandardScaler\n",
    "\n",
    "from sklearn.linear_model import LinearRegression,Ridge,Lasso,ElasticNet,LassoLarsIC\n",
    "from sklearn.datasets import california_housing"
   ]
  },
  {
   "cell_type": "code",
   "execution_count": 2,
   "metadata": {},
   "outputs": [],
   "source": [
    "data = california_housing.fetch_california_housing()"
   ]
  },
  {
   "cell_type": "code",
   "execution_count": 3,
   "metadata": {},
   "outputs": [],
   "source": [
    "X = pd.DataFrame(data['data'],columns=data['feature_names'])\n",
    "y = pd.DataFrame(data['target'])"
   ]
  },
  {
   "cell_type": "code",
   "execution_count": 14,
   "metadata": {},
   "outputs": [
    {
     "data": {
      "text/plain": [
       "(20640, 8)"
      ]
     },
     "execution_count": 14,
     "metadata": {},
     "output_type": "execute_result"
    }
   ],
   "source": [
    "X.shape"
   ]
  },
  {
   "cell_type": "code",
   "execution_count": 4,
   "metadata": {},
   "outputs": [
    {
     "data": {
      "text/html": [
       "<div>\n",
       "<style scoped>\n",
       "    .dataframe tbody tr th:only-of-type {\n",
       "        vertical-align: middle;\n",
       "    }\n",
       "\n",
       "    .dataframe tbody tr th {\n",
       "        vertical-align: top;\n",
       "    }\n",
       "\n",
       "    .dataframe thead th {\n",
       "        text-align: right;\n",
       "    }\n",
       "</style>\n",
       "<table border=\"1\" class=\"dataframe\">\n",
       "  <thead>\n",
       "    <tr style=\"text-align: right;\">\n",
       "      <th></th>\n",
       "      <th>MedInc</th>\n",
       "      <th>HouseAge</th>\n",
       "      <th>AveRooms</th>\n",
       "      <th>AveBedrms</th>\n",
       "      <th>Population</th>\n",
       "      <th>AveOccup</th>\n",
       "      <th>Latitude</th>\n",
       "      <th>Longitude</th>\n",
       "    </tr>\n",
       "  </thead>\n",
       "  <tbody>\n",
       "    <tr>\n",
       "      <td>0</td>\n",
       "      <td>8.3252</td>\n",
       "      <td>41.0</td>\n",
       "      <td>6.984127</td>\n",
       "      <td>1.023810</td>\n",
       "      <td>322.0</td>\n",
       "      <td>2.555556</td>\n",
       "      <td>37.88</td>\n",
       "      <td>-122.23</td>\n",
       "    </tr>\n",
       "    <tr>\n",
       "      <td>1</td>\n",
       "      <td>8.3014</td>\n",
       "      <td>21.0</td>\n",
       "      <td>6.238137</td>\n",
       "      <td>0.971880</td>\n",
       "      <td>2401.0</td>\n",
       "      <td>2.109842</td>\n",
       "      <td>37.86</td>\n",
       "      <td>-122.22</td>\n",
       "    </tr>\n",
       "    <tr>\n",
       "      <td>2</td>\n",
       "      <td>7.2574</td>\n",
       "      <td>52.0</td>\n",
       "      <td>8.288136</td>\n",
       "      <td>1.073446</td>\n",
       "      <td>496.0</td>\n",
       "      <td>2.802260</td>\n",
       "      <td>37.85</td>\n",
       "      <td>-122.24</td>\n",
       "    </tr>\n",
       "    <tr>\n",
       "      <td>3</td>\n",
       "      <td>5.6431</td>\n",
       "      <td>52.0</td>\n",
       "      <td>5.817352</td>\n",
       "      <td>1.073059</td>\n",
       "      <td>558.0</td>\n",
       "      <td>2.547945</td>\n",
       "      <td>37.85</td>\n",
       "      <td>-122.25</td>\n",
       "    </tr>\n",
       "    <tr>\n",
       "      <td>4</td>\n",
       "      <td>3.8462</td>\n",
       "      <td>52.0</td>\n",
       "      <td>6.281853</td>\n",
       "      <td>1.081081</td>\n",
       "      <td>565.0</td>\n",
       "      <td>2.181467</td>\n",
       "      <td>37.85</td>\n",
       "      <td>-122.25</td>\n",
       "    </tr>\n",
       "  </tbody>\n",
       "</table>\n",
       "</div>"
      ],
      "text/plain": [
       "   MedInc  HouseAge  AveRooms  AveBedrms  Population  AveOccup  Latitude  \\\n",
       "0  8.3252      41.0  6.984127   1.023810       322.0  2.555556     37.88   \n",
       "1  8.3014      21.0  6.238137   0.971880      2401.0  2.109842     37.86   \n",
       "2  7.2574      52.0  8.288136   1.073446       496.0  2.802260     37.85   \n",
       "3  5.6431      52.0  5.817352   1.073059       558.0  2.547945     37.85   \n",
       "4  3.8462      52.0  6.281853   1.081081       565.0  2.181467     37.85   \n",
       "\n",
       "   Longitude  \n",
       "0    -122.23  \n",
       "1    -122.22  \n",
       "2    -122.24  \n",
       "3    -122.25  \n",
       "4    -122.25  "
      ]
     },
     "execution_count": 4,
     "metadata": {},
     "output_type": "execute_result"
    }
   ],
   "source": [
    "X.head()"
   ]
  },
  {
   "cell_type": "markdown",
   "metadata": {},
   "source": [
    "# Feature Engineering"
   ]
  },
  {
   "cell_type": "code",
   "execution_count": 5,
   "metadata": {},
   "outputs": [
    {
     "data": {
      "text/html": [
       "<div>\n",
       "<style scoped>\n",
       "    .dataframe tbody tr th:only-of-type {\n",
       "        vertical-align: middle;\n",
       "    }\n",
       "\n",
       "    .dataframe tbody tr th {\n",
       "        vertical-align: top;\n",
       "    }\n",
       "\n",
       "    .dataframe thead th {\n",
       "        text-align: right;\n",
       "    }\n",
       "</style>\n",
       "<table border=\"1\" class=\"dataframe\">\n",
       "  <thead>\n",
       "    <tr style=\"text-align: right;\">\n",
       "      <th></th>\n",
       "      <th>1</th>\n",
       "      <th>MedInc</th>\n",
       "      <th>HouseAge</th>\n",
       "      <th>AveRooms</th>\n",
       "      <th>AveBedrms</th>\n",
       "      <th>Population</th>\n",
       "      <th>AveOccup</th>\n",
       "      <th>Latitude</th>\n",
       "      <th>Longitude</th>\n",
       "      <th>MedInc^2</th>\n",
       "      <th>...</th>\n",
       "      <th>AveOccup^3</th>\n",
       "      <th>AveOccup^2 Latitude</th>\n",
       "      <th>AveOccup^2 Longitude</th>\n",
       "      <th>AveOccup Latitude^2</th>\n",
       "      <th>AveOccup Latitude Longitude</th>\n",
       "      <th>AveOccup Longitude^2</th>\n",
       "      <th>Latitude^3</th>\n",
       "      <th>Latitude^2 Longitude</th>\n",
       "      <th>Latitude Longitude^2</th>\n",
       "      <th>Longitude^3</th>\n",
       "    </tr>\n",
       "  </thead>\n",
       "  <tbody>\n",
       "    <tr>\n",
       "      <td>0</td>\n",
       "      <td>1.0</td>\n",
       "      <td>8.3252</td>\n",
       "      <td>41.0</td>\n",
       "      <td>6.984127</td>\n",
       "      <td>1.023810</td>\n",
       "      <td>322.0</td>\n",
       "      <td>2.555556</td>\n",
       "      <td>37.88</td>\n",
       "      <td>-122.23</td>\n",
       "      <td>69.308955</td>\n",
       "      <td>...</td>\n",
       "      <td>16.689986</td>\n",
       "      <td>247.389136</td>\n",
       "      <td>-798.267531</td>\n",
       "      <td>3666.952356</td>\n",
       "      <td>-11832.407244</td>\n",
       "      <td>38180.441856</td>\n",
       "      <td>54353.799872</td>\n",
       "      <td>-175387.142512</td>\n",
       "      <td>565933.749452</td>\n",
       "      <td>-1.826137e+06</td>\n",
       "    </tr>\n",
       "    <tr>\n",
       "      <td>1</td>\n",
       "      <td>1.0</td>\n",
       "      <td>8.3014</td>\n",
       "      <td>21.0</td>\n",
       "      <td>6.238137</td>\n",
       "      <td>0.971880</td>\n",
       "      <td>2401.0</td>\n",
       "      <td>2.109842</td>\n",
       "      <td>37.86</td>\n",
       "      <td>-122.22</td>\n",
       "      <td>68.913242</td>\n",
       "      <td>...</td>\n",
       "      <td>9.391819</td>\n",
       "      <td>168.531236</td>\n",
       "      <td>-544.054085</td>\n",
       "      <td>3024.204235</td>\n",
       "      <td>-9762.763910</td>\n",
       "      <td>31516.244190</td>\n",
       "      <td>54267.751656</td>\n",
       "      <td>-175187.654712</td>\n",
       "      <td>565542.397224</td>\n",
       "      <td>-1.825689e+06</td>\n",
       "    </tr>\n",
       "    <tr>\n",
       "      <td>2</td>\n",
       "      <td>1.0</td>\n",
       "      <td>7.2574</td>\n",
       "      <td>52.0</td>\n",
       "      <td>8.288136</td>\n",
       "      <td>1.073446</td>\n",
       "      <td>496.0</td>\n",
       "      <td>2.802260</td>\n",
       "      <td>37.85</td>\n",
       "      <td>-122.24</td>\n",
       "      <td>52.669855</td>\n",
       "      <td>...</td>\n",
       "      <td>22.005195</td>\n",
       "      <td>297.223199</td>\n",
       "      <td>-959.909216</td>\n",
       "      <td>4014.580565</td>\n",
       "      <td>-12965.451209</td>\n",
       "      <td>41873.097907</td>\n",
       "      <td>54224.761625</td>\n",
       "      <td>-175123.774400</td>\n",
       "      <td>565578.076160</td>\n",
       "      <td>-1.826586e+06</td>\n",
       "    </tr>\n",
       "    <tr>\n",
       "      <td>3</td>\n",
       "      <td>1.0</td>\n",
       "      <td>5.6431</td>\n",
       "      <td>52.0</td>\n",
       "      <td>5.817352</td>\n",
       "      <td>1.073059</td>\n",
       "      <td>558.0</td>\n",
       "      <td>2.547945</td>\n",
       "      <td>37.85</td>\n",
       "      <td>-122.25</td>\n",
       "      <td>31.844578</td>\n",
       "      <td>...</td>\n",
       "      <td>16.541323</td>\n",
       "      <td>245.723138</td>\n",
       "      <td>-793.650028</td>\n",
       "      <td>3650.243630</td>\n",
       "      <td>-11789.756507</td>\n",
       "      <td>38079.200342</td>\n",
       "      <td>54224.761625</td>\n",
       "      <td>-175138.100625</td>\n",
       "      <td>565670.615625</td>\n",
       "      <td>-1.827034e+06</td>\n",
       "    </tr>\n",
       "    <tr>\n",
       "      <td>4</td>\n",
       "      <td>1.0</td>\n",
       "      <td>3.8462</td>\n",
       "      <td>52.0</td>\n",
       "      <td>6.281853</td>\n",
       "      <td>1.081081</td>\n",
       "      <td>565.0</td>\n",
       "      <td>2.181467</td>\n",
       "      <td>37.85</td>\n",
       "      <td>-122.25</td>\n",
       "      <td>14.793254</td>\n",
       "      <td>...</td>\n",
       "      <td>10.381164</td>\n",
       "      <td>180.120545</td>\n",
       "      <td>-581.763186</td>\n",
       "      <td>3125.218967</td>\n",
       "      <td>-10094.003137</td>\n",
       "      <td>32602.163369</td>\n",
       "      <td>54224.761625</td>\n",
       "      <td>-175138.100625</td>\n",
       "      <td>565670.615625</td>\n",
       "      <td>-1.827034e+06</td>\n",
       "    </tr>\n",
       "  </tbody>\n",
       "</table>\n",
       "<p>5 rows × 165 columns</p>\n",
       "</div>"
      ],
      "text/plain": [
       "     1  MedInc  HouseAge  AveRooms  AveBedrms  Population  AveOccup  Latitude  \\\n",
       "0  1.0  8.3252      41.0  6.984127   1.023810       322.0  2.555556     37.88   \n",
       "1  1.0  8.3014      21.0  6.238137   0.971880      2401.0  2.109842     37.86   \n",
       "2  1.0  7.2574      52.0  8.288136   1.073446       496.0  2.802260     37.85   \n",
       "3  1.0  5.6431      52.0  5.817352   1.073059       558.0  2.547945     37.85   \n",
       "4  1.0  3.8462      52.0  6.281853   1.081081       565.0  2.181467     37.85   \n",
       "\n",
       "   Longitude   MedInc^2  ...  AveOccup^3  AveOccup^2 Latitude  \\\n",
       "0    -122.23  69.308955  ...   16.689986           247.389136   \n",
       "1    -122.22  68.913242  ...    9.391819           168.531236   \n",
       "2    -122.24  52.669855  ...   22.005195           297.223199   \n",
       "3    -122.25  31.844578  ...   16.541323           245.723138   \n",
       "4    -122.25  14.793254  ...   10.381164           180.120545   \n",
       "\n",
       "   AveOccup^2 Longitude  AveOccup Latitude^2  AveOccup Latitude Longitude  \\\n",
       "0           -798.267531          3666.952356                -11832.407244   \n",
       "1           -544.054085          3024.204235                 -9762.763910   \n",
       "2           -959.909216          4014.580565                -12965.451209   \n",
       "3           -793.650028          3650.243630                -11789.756507   \n",
       "4           -581.763186          3125.218967                -10094.003137   \n",
       "\n",
       "   AveOccup Longitude^2    Latitude^3  Latitude^2 Longitude  \\\n",
       "0          38180.441856  54353.799872        -175387.142512   \n",
       "1          31516.244190  54267.751656        -175187.654712   \n",
       "2          41873.097907  54224.761625        -175123.774400   \n",
       "3          38079.200342  54224.761625        -175138.100625   \n",
       "4          32602.163369  54224.761625        -175138.100625   \n",
       "\n",
       "   Latitude Longitude^2   Longitude^3  \n",
       "0         565933.749452 -1.826137e+06  \n",
       "1         565542.397224 -1.825689e+06  \n",
       "2         565578.076160 -1.826586e+06  \n",
       "3         565670.615625 -1.827034e+06  \n",
       "4         565670.615625 -1.827034e+06  \n",
       "\n",
       "[5 rows x 165 columns]"
      ]
     },
     "execution_count": 5,
     "metadata": {},
     "output_type": "execute_result"
    }
   ],
   "source": [
    "poly = PolynomialFeatures(3)\n",
    "X_poly = poly.fit_transform(X)\n",
    "X_poly = pd.DataFrame(X_poly,columns = poly.get_feature_names(X.columns))\n",
    "X_poly.head()"
   ]
  },
  {
   "cell_type": "code",
   "execution_count": 19,
   "metadata": {},
   "outputs": [
    {
     "data": {
      "text/plain": [
       "(3.8706710029069766, 1.8998217179452688)"
      ]
     },
     "execution_count": 19,
     "metadata": {},
     "output_type": "execute_result"
    }
   ],
   "source": [
    "X_poly.MedInc.mean(),X_poly.MedInc.std()"
   ]
  },
  {
   "cell_type": "markdown",
   "metadata": {},
   "source": [
    "# Train / Validation / Test split"
   ]
  },
  {
   "cell_type": "code",
   "execution_count": 9,
   "metadata": {},
   "outputs": [],
   "source": [
    "X_train, X_test, y_train, y_test = train_test_split(X_poly,y,test_size=1000, random_state=42)\n",
    "X_train_v, X_val, y_train_v, y_val = train_test_split(X_train,y_train,test_size=1000, random_state=123)"
   ]
  },
  {
   "cell_type": "code",
   "execution_count": 10,
   "metadata": {},
   "outputs": [],
   "source": [
    "scaler = StandardScaler()"
   ]
  },
  {
   "cell_type": "code",
   "execution_count": 12,
   "metadata": {},
   "outputs": [
    {
     "data": {
      "text/plain": [
       "(18640, 165)"
      ]
     },
     "execution_count": 12,
     "metadata": {},
     "output_type": "execute_result"
    }
   ],
   "source": [
    "X_train_v.shape"
   ]
  },
  {
   "cell_type": "code",
   "execution_count": 15,
   "metadata": {},
   "outputs": [],
   "source": [
    "scaler.fit(X_train_v)\n",
    "\n",
    "X_train_v = scaler.transform(X_train_v)\n",
    "X_val = scaler.transform(X_val)\n",
    "\n",
    "X_train = scaler.transform(X_train)\n",
    "X_test = scaler.transform(X_test)"
   ]
  },
  {
   "cell_type": "code",
   "execution_count": 16,
   "metadata": {},
   "outputs": [
    {
     "data": {
      "text/html": [
       "<div>\n",
       "<style scoped>\n",
       "    .dataframe tbody tr th:only-of-type {\n",
       "        vertical-align: middle;\n",
       "    }\n",
       "\n",
       "    .dataframe tbody tr th {\n",
       "        vertical-align: top;\n",
       "    }\n",
       "\n",
       "    .dataframe thead th {\n",
       "        text-align: right;\n",
       "    }\n",
       "</style>\n",
       "<table border=\"1\" class=\"dataframe\">\n",
       "  <thead>\n",
       "    <tr style=\"text-align: right;\">\n",
       "      <th></th>\n",
       "      <th>1</th>\n",
       "      <th>MedInc</th>\n",
       "      <th>HouseAge</th>\n",
       "      <th>AveRooms</th>\n",
       "      <th>AveBedrms</th>\n",
       "      <th>Population</th>\n",
       "      <th>AveOccup</th>\n",
       "      <th>Latitude</th>\n",
       "      <th>Longitude</th>\n",
       "      <th>MedInc^2</th>\n",
       "      <th>...</th>\n",
       "      <th>AveOccup^3</th>\n",
       "      <th>AveOccup^2 Latitude</th>\n",
       "      <th>AveOccup^2 Longitude</th>\n",
       "      <th>AveOccup Latitude^2</th>\n",
       "      <th>AveOccup Latitude Longitude</th>\n",
       "      <th>AveOccup Longitude^2</th>\n",
       "      <th>Latitude^3</th>\n",
       "      <th>Latitude^2 Longitude</th>\n",
       "      <th>Latitude Longitude^2</th>\n",
       "      <th>Longitude^3</th>\n",
       "    </tr>\n",
       "  </thead>\n",
       "  <tbody>\n",
       "    <tr>\n",
       "      <td>0</td>\n",
       "      <td>0.0</td>\n",
       "      <td>-0.031841</td>\n",
       "      <td>-0.606435</td>\n",
       "      <td>0.178642</td>\n",
       "      <td>0.160661</td>\n",
       "      <td>-0.595176</td>\n",
       "      <td>0.041127</td>\n",
       "      <td>-0.545903</td>\n",
       "      <td>-0.237692</td>\n",
       "      <td>-0.186257</td>\n",
       "      <td>...</td>\n",
       "      <td>-0.008607</td>\n",
       "      <td>-0.009915</td>\n",
       "      <td>0.009856</td>\n",
       "      <td>0.016224</td>\n",
       "      <td>-0.028653</td>\n",
       "      <td>0.042264</td>\n",
       "      <td>-0.570919</td>\n",
       "      <td>0.479383</td>\n",
       "      <td>-0.293239</td>\n",
       "      <td>-0.220720</td>\n",
       "    </tr>\n",
       "    <tr>\n",
       "      <td>1</td>\n",
       "      <td>0.0</td>\n",
       "      <td>0.710348</td>\n",
       "      <td>-1.955232</td>\n",
       "      <td>2.009597</td>\n",
       "      <td>0.717012</td>\n",
       "      <td>-0.975745</td>\n",
       "      <td>0.026930</td>\n",
       "      <td>-0.995294</td>\n",
       "      <td>1.124305</td>\n",
       "      <td>0.398111</td>\n",
       "      <td>...</td>\n",
       "      <td>-0.008608</td>\n",
       "      <td>-0.010022</td>\n",
       "      <td>0.009968</td>\n",
       "      <td>-0.008952</td>\n",
       "      <td>-0.002306</td>\n",
       "      <td>0.014845</td>\n",
       "      <td>-0.967408</td>\n",
       "      <td>0.999812</td>\n",
       "      <td>-1.046976</td>\n",
       "      <td>1.114333</td>\n",
       "    </tr>\n",
       "    <tr>\n",
       "      <td>2</td>\n",
       "      <td>0.0</td>\n",
       "      <td>-0.442032</td>\n",
       "      <td>1.297749</td>\n",
       "      <td>-0.468423</td>\n",
       "      <td>-0.443074</td>\n",
       "      <td>-0.389582</td>\n",
       "      <td>-0.041752</td>\n",
       "      <td>1.083141</td>\n",
       "      <td>-1.375184</td>\n",
       "      <td>-0.431269</td>\n",
       "      <td>...</td>\n",
       "      <td>-0.008609</td>\n",
       "      <td>-0.010288</td>\n",
       "      <td>0.010312</td>\n",
       "      <td>-0.009461</td>\n",
       "      <td>0.018921</td>\n",
       "      <td>-0.029578</td>\n",
       "      <td>1.061375</td>\n",
       "      <td>-1.121935</td>\n",
       "      <td>1.214756</td>\n",
       "      <td>-1.383256</td>\n",
       "    </tr>\n",
       "    <tr>\n",
       "      <td>3</td>\n",
       "      <td>0.0</td>\n",
       "      <td>0.035014</td>\n",
       "      <td>-1.717209</td>\n",
       "      <td>-0.036640</td>\n",
       "      <td>-0.136730</td>\n",
       "      <td>1.251674</td>\n",
       "      <td>0.005834</td>\n",
       "      <td>1.438909</td>\n",
       "      <td>-0.901229</td>\n",
       "      <td>-0.141064</td>\n",
       "      <td>...</td>\n",
       "      <td>-0.008608</td>\n",
       "      <td>-0.010019</td>\n",
       "      <td>0.010063</td>\n",
       "      <td>0.048508</td>\n",
       "      <td>-0.031992</td>\n",
       "      <td>0.014103</td>\n",
       "      <td>1.460523</td>\n",
       "      <td>-1.394254</td>\n",
       "      <td>1.265869</td>\n",
       "      <td>-0.893547</td>\n",
       "    </tr>\n",
       "    <tr>\n",
       "      <td>4</td>\n",
       "      <td>0.0</td>\n",
       "      <td>-0.714486</td>\n",
       "      <td>-0.447753</td>\n",
       "      <td>-0.130547</td>\n",
       "      <td>-0.150741</td>\n",
       "      <td>-0.386957</td>\n",
       "      <td>-0.041662</td>\n",
       "      <td>1.101866</td>\n",
       "      <td>-0.362417</td>\n",
       "      <td>-0.563336</td>\n",
       "      <td>...</td>\n",
       "      <td>-0.008609</td>\n",
       "      <td>-0.010287</td>\n",
       "      <td>0.010321</td>\n",
       "      <td>-0.008876</td>\n",
       "      <td>0.022565</td>\n",
       "      <td>-0.037514</td>\n",
       "      <td>1.081990</td>\n",
       "      <td>-0.999793</td>\n",
       "      <td>0.830729</td>\n",
       "      <td>-0.346061</td>\n",
       "    </tr>\n",
       "  </tbody>\n",
       "</table>\n",
       "<p>5 rows × 165 columns</p>\n",
       "</div>"
      ],
      "text/plain": [
       "     1    MedInc  HouseAge  AveRooms  AveBedrms  Population  AveOccup  \\\n",
       "0  0.0 -0.031841 -0.606435  0.178642   0.160661   -0.595176  0.041127   \n",
       "1  0.0  0.710348 -1.955232  2.009597   0.717012   -0.975745  0.026930   \n",
       "2  0.0 -0.442032  1.297749 -0.468423  -0.443074   -0.389582 -0.041752   \n",
       "3  0.0  0.035014 -1.717209 -0.036640  -0.136730    1.251674  0.005834   \n",
       "4  0.0 -0.714486 -0.447753 -0.130547  -0.150741   -0.386957 -0.041662   \n",
       "\n",
       "   Latitude  Longitude  MedInc^2  ...  AveOccup^3  AveOccup^2 Latitude  \\\n",
       "0 -0.545903  -0.237692 -0.186257  ...   -0.008607            -0.009915   \n",
       "1 -0.995294   1.124305  0.398111  ...   -0.008608            -0.010022   \n",
       "2  1.083141  -1.375184 -0.431269  ...   -0.008609            -0.010288   \n",
       "3  1.438909  -0.901229 -0.141064  ...   -0.008608            -0.010019   \n",
       "4  1.101866  -0.362417 -0.563336  ...   -0.008609            -0.010287   \n",
       "\n",
       "   AveOccup^2 Longitude  AveOccup Latitude^2  AveOccup Latitude Longitude  \\\n",
       "0              0.009856             0.016224                    -0.028653   \n",
       "1              0.009968            -0.008952                    -0.002306   \n",
       "2              0.010312            -0.009461                     0.018921   \n",
       "3              0.010063             0.048508                    -0.031992   \n",
       "4              0.010321            -0.008876                     0.022565   \n",
       "\n",
       "   AveOccup Longitude^2  Latitude^3  Latitude^2 Longitude  \\\n",
       "0              0.042264   -0.570919              0.479383   \n",
       "1              0.014845   -0.967408              0.999812   \n",
       "2             -0.029578    1.061375             -1.121935   \n",
       "3              0.014103    1.460523             -1.394254   \n",
       "4             -0.037514    1.081990             -0.999793   \n",
       "\n",
       "   Latitude Longitude^2  Longitude^3  \n",
       "0             -0.293239    -0.220720  \n",
       "1             -1.046976     1.114333  \n",
       "2              1.214756    -1.383256  \n",
       "3              1.265869    -0.893547  \n",
       "4              0.830729    -0.346061  \n",
       "\n",
       "[5 rows x 165 columns]"
      ]
     },
     "execution_count": 16,
     "metadata": {},
     "output_type": "execute_result"
    }
   ],
   "source": [
    "X_train_v = pd.DataFrame(X_train_v,columns = poly.get_feature_names(X.columns))\n",
    "X_train_v.head()"
   ]
  },
  {
   "cell_type": "markdown",
   "metadata": {},
   "source": [
    "# Fit and evaluate model"
   ]
  },
  {
   "cell_type": "code",
   "execution_count": 20,
   "metadata": {},
   "outputs": [
    {
     "data": {
      "text/plain": [
       "0.7400074016715636"
      ]
     },
     "execution_count": 20,
     "metadata": {},
     "output_type": "execute_result"
    }
   ],
   "source": [
    "lin_reg = LinearRegression()\n",
    "lin_reg.fit(X_train_v,y_train_v)\n",
    "lin_reg.score(X_train_v,y_train_v)"
   ]
  },
  {
   "cell_type": "code",
   "execution_count": 21,
   "metadata": {},
   "outputs": [
    {
     "data": {
      "text/plain": [
       "0.7208757118008782"
      ]
     },
     "execution_count": 21,
     "metadata": {},
     "output_type": "execute_result"
    }
   ],
   "source": [
    "lin_reg.score(X_val,y_val)"
   ]
  },
  {
   "cell_type": "code",
   "execution_count": 22,
   "metadata": {},
   "outputs": [
    {
     "data": {
      "text/plain": [
       "array([ 1.27452942e-08,  1.10402586e+02,  2.39397374e+02, -1.34144271e+02])"
      ]
     },
     "execution_count": 22,
     "metadata": {},
     "output_type": "execute_result"
    }
   ],
   "source": [
    "lin_reg.coef_[0][:4]"
   ]
  },
  {
   "cell_type": "markdown",
   "metadata": {},
   "source": [
    "## Ridge"
   ]
  },
  {
   "cell_type": "code",
   "execution_count": 23,
   "metadata": {},
   "outputs": [
    {
     "data": {
      "text/plain": [
       "0.7219628882718296"
      ]
     },
     "execution_count": 23,
     "metadata": {},
     "output_type": "execute_result"
    }
   ],
   "source": [
    "ridge = Ridge(.01)\n",
    "ridge.fit(X_train_v,y_train_v)\n",
    "ridge.score(X_train_v,y_train_v)"
   ]
  },
  {
   "cell_type": "code",
   "execution_count": 24,
   "metadata": {},
   "outputs": [
    {
     "data": {
      "text/plain": [
       "0.7179066633866409"
      ]
     },
     "execution_count": 24,
     "metadata": {},
     "output_type": "execute_result"
    }
   ],
   "source": [
    "ridge.score(X_val,y_val)"
   ]
  },
  {
   "cell_type": "code",
   "execution_count": 25,
   "metadata": {},
   "outputs": [
    {
     "data": {
      "text/plain": [
       "array([ 0.        , -5.87107175, -3.85038808,  4.88116481])"
      ]
     },
     "execution_count": 25,
     "metadata": {},
     "output_type": "execute_result"
    }
   ],
   "source": [
    "ridge.coef_[0][:4]"
   ]
  },
  {
   "cell_type": "markdown",
   "metadata": {},
   "source": [
    "## Lasso"
   ]
  },
  {
   "cell_type": "code",
   "execution_count": 26,
   "metadata": {},
   "outputs": [
    {
     "name": "stderr",
     "output_type": "stream",
     "text": [
      "//anaconda3/envs/learn-env/lib/python3.6/site-packages/sklearn/linear_model/coordinate_descent.py:475: ConvergenceWarning: Objective did not converge. You might want to increase the number of iterations. Duality gap: 16.15537150260934, tolerance: 2.4834369035185597\n",
      "  positive)\n"
     ]
    },
    {
     "data": {
      "text/plain": [
       "0.6253833099873541"
      ]
     },
     "execution_count": 26,
     "metadata": {},
     "output_type": "execute_result"
    }
   ],
   "source": [
    "lasso = Lasso(.01)\n",
    "lasso.fit(X_train_v,y_train_v)\n",
    "lasso.score(X_train_v,y_train_v)"
   ]
  },
  {
   "cell_type": "code",
   "execution_count": 27,
   "metadata": {},
   "outputs": [
    {
     "data": {
      "text/plain": [
       "0.6017477680187624"
      ]
     },
     "execution_count": 27,
     "metadata": {},
     "output_type": "execute_result"
    }
   ],
   "source": [
    "lasso.score(X_val,y_val)"
   ]
  },
  {
   "cell_type": "code",
   "execution_count": 30,
   "metadata": {},
   "outputs": [
    {
     "data": {
      "text/plain": [
       "array([ 0.        ,  0.20558595, -0.        , -0.        ])"
      ]
     },
     "execution_count": 30,
     "metadata": {},
     "output_type": "execute_result"
    }
   ],
   "source": [
    "lasso.coef_[:4]"
   ]
  },
  {
   "cell_type": "markdown",
   "metadata": {},
   "source": [
    "## Elastic net"
   ]
  },
  {
   "cell_type": "code",
   "execution_count": 32,
   "metadata": {},
   "outputs": [
    {
     "name": "stderr",
     "output_type": "stream",
     "text": [
      "//anaconda3/envs/learn-env/lib/python3.6/site-packages/sklearn/linear_model/coordinate_descent.py:475: ConvergenceWarning: Objective did not converge. You might want to increase the number of iterations. Duality gap: 554.843514562599, tolerance: 2.4834369035185597\n",
      "  positive)\n"
     ]
    },
    {
     "data": {
      "text/plain": [
       "0.6596695576264529"
      ]
     },
     "execution_count": 32,
     "metadata": {},
     "output_type": "execute_result"
    }
   ],
   "source": [
    "elastic = ElasticNet(.01,l1_ratio=.1)\n",
    "elastic.fit(X_train_v,y_train_v)\n",
    "elastic.score(X_train_v,y_train_v)"
   ]
  },
  {
   "cell_type": "code",
   "execution_count": 33,
   "metadata": {},
   "outputs": [
    {
     "data": {
      "text/plain": [
       "0.6413883415552051"
      ]
     },
     "execution_count": 33,
     "metadata": {},
     "output_type": "execute_result"
    }
   ],
   "source": [
    "elastic.score(X_val,y_val)"
   ]
  },
  {
   "cell_type": "code",
   "execution_count": 36,
   "metadata": {},
   "outputs": [
    {
     "data": {
      "text/plain": [
       "array([ 0.        ,  0.13024514, -0.01656491, -0.03794804])"
      ]
     },
     "execution_count": 36,
     "metadata": {},
     "output_type": "execute_result"
    }
   ],
   "source": [
    "elastic.coef_[:4]"
   ]
  },
  {
   "cell_type": "markdown",
   "metadata": {},
   "source": [
    "## Lasso with BIC"
   ]
  },
  {
   "cell_type": "code",
   "execution_count": null,
   "metadata": {},
   "outputs": [],
   "source": [
    "lassobic = LassoLarsIC('bic')\n",
    "lassobic.fit(X_train_v,y_train_v)\n",
    "lassobic.score(X_train_v,y_train_v)"
   ]
  },
  {
   "cell_type": "code",
   "execution_count": null,
   "metadata": {},
   "outputs": [],
   "source": [
    "lassobic.score(X_val,y_val)"
   ]
  },
  {
   "cell_type": "code",
   "execution_count": null,
   "metadata": {},
   "outputs": [],
   "source": [
    "lassobic.coef_[:4]"
   ]
  },
  {
   "cell_type": "code",
   "execution_count": null,
   "metadata": {},
   "outputs": [],
   "source": [
    "lassobic.alpha_"
   ]
  },
  {
   "cell_type": "markdown",
   "metadata": {},
   "source": [
    "## Lasso with AIC"
   ]
  },
  {
   "cell_type": "code",
   "execution_count": null,
   "metadata": {},
   "outputs": [],
   "source": [
    "lassoaic = LassoLarsIC('aic')\n",
    "lassoaic.fit(X_train_v,y_train_v)\n",
    "lassoaic.score(X_train_v,y_train_v)"
   ]
  },
  {
   "cell_type": "code",
   "execution_count": null,
   "metadata": {},
   "outputs": [],
   "source": [
    "lassoaic.score(X_val,y_val)"
   ]
  },
  {
   "cell_type": "code",
   "execution_count": null,
   "metadata": {},
   "outputs": [],
   "source": [
    "lassoaic.coef_[:4]"
   ]
  },
  {
   "cell_type": "code",
   "execution_count": null,
   "metadata": {},
   "outputs": [],
   "source": [
    "lassoaic.alpha_"
   ]
  },
  {
   "cell_type": "markdown",
   "metadata": {},
   "source": [
    "# Final check on the Test dataset"
   ]
  },
  {
   "cell_type": "code",
   "execution_count": null,
   "metadata": {},
   "outputs": [],
   "source": [
    "lin_reg.fit(X_train,y_train)\n",
    "lin_reg.score(X_test,y_test)"
   ]
  },
  {
   "cell_type": "code",
   "execution_count": null,
   "metadata": {},
   "outputs": [],
   "source": []
  }
 ],
 "metadata": {
  "kernelspec": {
   "display_name": "Python 3",
   "language": "python",
   "name": "python3"
  },
  "language_info": {
   "codemirror_mode": {
    "name": "ipython",
    "version": 3
   },
   "file_extension": ".py",
   "mimetype": "text/x-python",
   "name": "python",
   "nbconvert_exporter": "python",
   "pygments_lexer": "ipython3",
   "version": "3.6.9"
  }
 },
 "nbformat": 4,
 "nbformat_minor": 2
}
